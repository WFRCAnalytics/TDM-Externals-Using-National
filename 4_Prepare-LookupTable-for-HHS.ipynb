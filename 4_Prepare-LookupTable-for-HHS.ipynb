{
 "cells": [
  {
   "cell_type": "code",
   "execution_count": 1,
   "metadata": {},
   "outputs": [],
   "source": [
    "import numpy as np\n",
    "import os\n",
    "import pandas as pd\n",
    "import arcpy\n",
    "import pyxlsb\n",
    "\n",
    "# Import the required ArcGIS API for Python modules\n",
    "import arcgis\n",
    "from arcgis.gis import GIS\n",
    "gis = arcgis.GIS()\n",
    "from arcgis.geoanalytics import manage_data\n",
    "\n",
    "from IPython.display import display, Markdown"
   ]
  },
  {
   "cell_type": "code",
   "execution_count": 2,
   "metadata": {},
   "outputs": [],
   "source": [
    "dirWork         = os.getcwd()\n",
    "dirInput        = os.path.join(dirWork, r'input'               )\n",
    "dirIntermediate = os.path.join(dirWork, r'intermediate'        )\n",
    "dirResults      = os.path.join(dirWork, r'results'             )\n",
    "dirHHSurvey     = os.path.join(dirWork, r'0 - HH Travel Survey')"
   ]
  },
  {
   "cell_type": "code",
   "execution_count": 3,
   "metadata": {},
   "outputs": [],
   "source": [
    "#globals\n",
    "filename_HHSurvey            = os.path.join(dirHHSurvey, r'2012_HHSurvey - USTMv2.1a - 2021-07-13 - Master.xlsb')\n",
    "filename_ExternalLookupTable = os.path.join(dirWork, r'2_skim_through_externals\\ExternalLookup.csv')\n",
    "filename_TAZ                 = os.path.join(dirWork, r'0 - HH Travel Survey\\TAZ\\USTM TAZ - v21a\\TAZ_v21a_wNatCoGrps_NAD83_v2.shp')\n",
    "\n",
    "sheetname_TripData = 'TripData_2021-07-06'\n"
   ]
  },
  {
   "cell_type": "code",
   "execution_count": 4,
   "metadata": {},
   "outputs": [],
   "source": [
    "#import excel spreadsheet\n",
    "df_TripData = pd.read_excel(filename_HHSurvey, sheet_name=sheetname_TripData, engine='pyxlsb')"
   ]
  },
  {
   "cell_type": "code",
   "execution_count": 5,
   "metadata": {},
   "outputs": [],
   "source": [
    "#help\n",
    "#?pd.read_excel"
   ]
  },
  {
   "cell_type": "code",
   "execution_count": 6,
   "metadata": {
    "scrolled": true
   },
   "outputs": [],
   "source": [
    "#display(df_TripData.columns.tolist())"
   ]
  },
  {
   "cell_type": "code",
   "execution_count": 11,
   "metadata": {},
   "outputs": [
    {
     "output_type": "display_data",
     "data": {
      "text/plain": "       record_id trip_pur_t     weight  o_CO_TAZID  d_CO_TAZID\n1282        1311        HBW  19.457436       50155     -808956\n1283        1312        HBW  19.457436     -808956       50155\n1387        1418      NHBNW  56.887142      530504     -808927\n1388        1419      NHBNW  56.887142     -808927      530256\n1391        1422      NHBNW  56.887142      530530     -808927\n...          ...        ...        ...         ...         ...\n99197     103039        HBW  38.316773      530285     -808927\n99210     103052        HBW  31.184202      530105     -808927\n99253     103095        HBW  45.175257     -808927      530153\n99302     103144        HBW  18.536184      530296     -808927\n99303     103145        HBW  18.536184     -808927      530296\n\n[549 rows x 5 columns]",
      "text/html": "<div>\n<style scoped>\n    .dataframe tbody tr th:only-of-type {\n        vertical-align: middle;\n    }\n\n    .dataframe tbody tr th {\n        vertical-align: top;\n    }\n\n    .dataframe thead th {\n        text-align: right;\n    }\n</style>\n<table border=\"1\" class=\"dataframe\">\n  <thead>\n    <tr style=\"text-align: right;\">\n      <th></th>\n      <th>record_id</th>\n      <th>trip_pur_t</th>\n      <th>weight</th>\n      <th>o_CO_TAZID</th>\n      <th>d_CO_TAZID</th>\n    </tr>\n  </thead>\n  <tbody>\n    <tr>\n      <th>1282</th>\n      <td>1311</td>\n      <td>HBW</td>\n      <td>19.457436</td>\n      <td>50155</td>\n      <td>-808956</td>\n    </tr>\n    <tr>\n      <th>1283</th>\n      <td>1312</td>\n      <td>HBW</td>\n      <td>19.457436</td>\n      <td>-808956</td>\n      <td>50155</td>\n    </tr>\n    <tr>\n      <th>1387</th>\n      <td>1418</td>\n      <td>NHBNW</td>\n      <td>56.887142</td>\n      <td>530504</td>\n      <td>-808927</td>\n    </tr>\n    <tr>\n      <th>1388</th>\n      <td>1419</td>\n      <td>NHBNW</td>\n      <td>56.887142</td>\n      <td>-808927</td>\n      <td>530256</td>\n    </tr>\n    <tr>\n      <th>1391</th>\n      <td>1422</td>\n      <td>NHBNW</td>\n      <td>56.887142</td>\n      <td>530530</td>\n      <td>-808927</td>\n    </tr>\n    <tr>\n      <th>...</th>\n      <td>...</td>\n      <td>...</td>\n      <td>...</td>\n      <td>...</td>\n      <td>...</td>\n    </tr>\n    <tr>\n      <th>99197</th>\n      <td>103039</td>\n      <td>HBW</td>\n      <td>38.316773</td>\n      <td>530285</td>\n      <td>-808927</td>\n    </tr>\n    <tr>\n      <th>99210</th>\n      <td>103052</td>\n      <td>HBW</td>\n      <td>31.184202</td>\n      <td>530105</td>\n      <td>-808927</td>\n    </tr>\n    <tr>\n      <th>99253</th>\n      <td>103095</td>\n      <td>HBW</td>\n      <td>45.175257</td>\n      <td>-808927</td>\n      <td>530153</td>\n    </tr>\n    <tr>\n      <th>99302</th>\n      <td>103144</td>\n      <td>HBW</td>\n      <td>18.536184</td>\n      <td>530296</td>\n      <td>-808927</td>\n    </tr>\n    <tr>\n      <th>99303</th>\n      <td>103145</td>\n      <td>HBW</td>\n      <td>18.536184</td>\n      <td>-808927</td>\n      <td>530296</td>\n    </tr>\n  </tbody>\n</table>\n<p>549 rows × 5 columns</p>\n</div>"
     },
     "metadata": {}
    },
    {
     "output_type": "display_data",
     "data": {
      "text/plain": "weight    49255.08282\ndtype: float64"
     },
     "metadata": {}
    }
   ],
   "source": [
    "df_TripData_IXXI = df_TripData[['record_id','trip_pur_t','weight','o_CO_TAZID','d_CO_TAZID']]\n",
    "\n",
    "#filter so only IX and XI trips are left\n",
    "df_TripData_IXXI = df_TripData_IXXI.loc[(df_TripData_IXXI['o_CO_TAZID']<0) | (df_TripData_IXXI['d_CO_TAZID']<0)]\n",
    "df_TripData_IXXI = df_TripData_IXXI.loc[(df_TripData_IXXI['o_CO_TAZID']>0) | (df_TripData_IXXI['d_CO_TAZID']>0)]\n",
    "\n",
    "display(df_TripData_IXXI)\n",
    "display(df_TripData_IXXI[['weight']].sum())"
   ]
  },
  {
   "cell_type": "code",
   "execution_count": 12,
   "metadata": {},
   "outputs": [],
   "source": [
    "#read in lookup table\n",
    "df_luExternals = pd.read_csv(filename_ExternalLookupTable)"
   ]
  },
  {
   "cell_type": "code",
   "execution_count": 13,
   "metadata": {},
   "outputs": [
    {
     "output_type": "execute_result",
     "data": {
      "text/plain": [
       "            ODPair       I       J  External     Time  Distance\n",
       "0          31_8776    31.0  8776.0      12.0  2869.37   3027.30\n",
       "1          31_8777    31.0  8777.0      12.0  2712.40   2846.01\n",
       "2          31_8778    31.0  8778.0      12.0  2509.57   2625.02\n",
       "3          31_8779    31.0  8779.0      12.0  2439.52   2583.07\n",
       "4          31_8780    31.0  8780.0      12.0  2267.28   2447.13\n",
       "...            ...     ...     ...       ...      ...       ...\n",
       "3407818  8976_8771  8976.0  8771.0      23.0   520.47    493.43\n",
       "3407819  8976_8772  8976.0  8772.0      23.0   523.07    495.76\n",
       "3407820  8976_8773  8976.0  8773.0      23.0   532.31    489.34\n",
       "3407821  8976_8774  8976.0  8774.0      23.0   559.14    498.78\n",
       "3407822  8976_8775  8976.0  8775.0      23.0   549.14    508.79\n",
       "\n",
       "[3407823 rows x 6 columns]"
      ],
      "text/html": "<div>\n<style scoped>\n    .dataframe tbody tr th:only-of-type {\n        vertical-align: middle;\n    }\n\n    .dataframe tbody tr th {\n        vertical-align: top;\n    }\n\n    .dataframe thead th {\n        text-align: right;\n    }\n</style>\n<table border=\"1\" class=\"dataframe\">\n  <thead>\n    <tr style=\"text-align: right;\">\n      <th></th>\n      <th>ODPair</th>\n      <th>I</th>\n      <th>J</th>\n      <th>External</th>\n      <th>Time</th>\n      <th>Distance</th>\n    </tr>\n  </thead>\n  <tbody>\n    <tr>\n      <th>0</th>\n      <td>31_8776</td>\n      <td>31.0</td>\n      <td>8776.0</td>\n      <td>12.0</td>\n      <td>2869.37</td>\n      <td>3027.30</td>\n    </tr>\n    <tr>\n      <th>1</th>\n      <td>31_8777</td>\n      <td>31.0</td>\n      <td>8777.0</td>\n      <td>12.0</td>\n      <td>2712.40</td>\n      <td>2846.01</td>\n    </tr>\n    <tr>\n      <th>2</th>\n      <td>31_8778</td>\n      <td>31.0</td>\n      <td>8778.0</td>\n      <td>12.0</td>\n      <td>2509.57</td>\n      <td>2625.02</td>\n    </tr>\n    <tr>\n      <th>3</th>\n      <td>31_8779</td>\n      <td>31.0</td>\n      <td>8779.0</td>\n      <td>12.0</td>\n      <td>2439.52</td>\n      <td>2583.07</td>\n    </tr>\n    <tr>\n      <th>4</th>\n      <td>31_8780</td>\n      <td>31.0</td>\n      <td>8780.0</td>\n      <td>12.0</td>\n      <td>2267.28</td>\n      <td>2447.13</td>\n    </tr>\n    <tr>\n      <th>...</th>\n      <td>...</td>\n      <td>...</td>\n      <td>...</td>\n      <td>...</td>\n      <td>...</td>\n      <td>...</td>\n    </tr>\n    <tr>\n      <th>3407818</th>\n      <td>8976_8771</td>\n      <td>8976.0</td>\n      <td>8771.0</td>\n      <td>23.0</td>\n      <td>520.47</td>\n      <td>493.43</td>\n    </tr>\n    <tr>\n      <th>3407819</th>\n      <td>8976_8772</td>\n      <td>8976.0</td>\n      <td>8772.0</td>\n      <td>23.0</td>\n      <td>523.07</td>\n      <td>495.76</td>\n    </tr>\n    <tr>\n      <th>3407820</th>\n      <td>8976_8773</td>\n      <td>8976.0</td>\n      <td>8773.0</td>\n      <td>23.0</td>\n      <td>532.31</td>\n      <td>489.34</td>\n    </tr>\n    <tr>\n      <th>3407821</th>\n      <td>8976_8774</td>\n      <td>8976.0</td>\n      <td>8774.0</td>\n      <td>23.0</td>\n      <td>559.14</td>\n      <td>498.78</td>\n    </tr>\n    <tr>\n      <th>3407822</th>\n      <td>8976_8775</td>\n      <td>8976.0</td>\n      <td>8775.0</td>\n      <td>23.0</td>\n      <td>549.14</td>\n      <td>508.79</td>\n    </tr>\n  </tbody>\n</table>\n<p>3407823 rows × 6 columns</p>\n</div>"
     },
     "metadata": {},
     "execution_count": 13
    }
   ],
   "source": [
    "df_luExternals"
   ]
  },
  {
   "cell_type": "code",
   "execution_count": 14,
   "metadata": {},
   "outputs": [],
   "source": [
    "sdf_TAZ = pd.DataFrame.spatial.from_featureclass(filename_TAZ)"
   ]
  },
  {
   "cell_type": "code",
   "execution_count": 15,
   "metadata": {},
   "outputs": [
    {
     "output_type": "execute_result",
     "data": {
      "text/plain": [
       "      TAZID  CO_TAZID\n",
       "0      7067     50639\n",
       "1      7069     50641\n",
       "2      6478     50050\n",
       "3      7091     50663\n",
       "4      7087     50659\n",
       "...     ...       ...\n",
       "8939   8972   -808972\n",
       "8940   8973   -808973\n",
       "8941   8974   -808974\n",
       "8942   8975   -808975\n",
       "8943   8976   -808976\n",
       "\n",
       "[8944 rows x 2 columns]"
      ],
      "text/html": "<div>\n<style scoped>\n    .dataframe tbody tr th:only-of-type {\n        vertical-align: middle;\n    }\n\n    .dataframe tbody tr th {\n        vertical-align: top;\n    }\n\n    .dataframe thead th {\n        text-align: right;\n    }\n</style>\n<table border=\"1\" class=\"dataframe\">\n  <thead>\n    <tr style=\"text-align: right;\">\n      <th></th>\n      <th>TAZID</th>\n      <th>CO_TAZID</th>\n    </tr>\n  </thead>\n  <tbody>\n    <tr>\n      <th>0</th>\n      <td>7067</td>\n      <td>50639</td>\n    </tr>\n    <tr>\n      <th>1</th>\n      <td>7069</td>\n      <td>50641</td>\n    </tr>\n    <tr>\n      <th>2</th>\n      <td>6478</td>\n      <td>50050</td>\n    </tr>\n    <tr>\n      <th>3</th>\n      <td>7091</td>\n      <td>50663</td>\n    </tr>\n    <tr>\n      <th>4</th>\n      <td>7087</td>\n      <td>50659</td>\n    </tr>\n    <tr>\n      <th>...</th>\n      <td>...</td>\n      <td>...</td>\n    </tr>\n    <tr>\n      <th>8939</th>\n      <td>8972</td>\n      <td>-808972</td>\n    </tr>\n    <tr>\n      <th>8940</th>\n      <td>8973</td>\n      <td>-808973</td>\n    </tr>\n    <tr>\n      <th>8941</th>\n      <td>8974</td>\n      <td>-808974</td>\n    </tr>\n    <tr>\n      <th>8942</th>\n      <td>8975</td>\n      <td>-808975</td>\n    </tr>\n    <tr>\n      <th>8943</th>\n      <td>8976</td>\n      <td>-808976</td>\n    </tr>\n  </tbody>\n</table>\n<p>8944 rows × 2 columns</p>\n</div>"
     },
     "metadata": {},
     "execution_count": 15
    }
   ],
   "source": [
    "df_luTAZ = sdf_TAZ[['TAZID','CO_TAZID']]\n",
    "df_luTAZ"
   ]
  },
  {
   "cell_type": "code",
   "execution_count": 16,
   "metadata": {},
   "outputs": [
    {
     "output_type": "execute_result",
     "data": {
      "text/plain": [
       "            ODPair       I       J  External     Time  Distance  TAZID_i  \\\n",
       "0          31_8776    31.0  8776.0      12.0  2869.37   3027.30       31   \n",
       "1          31_8777    31.0  8777.0      12.0  2712.40   2846.01       31   \n",
       "2          31_8778    31.0  8778.0      12.0  2509.57   2625.02       31   \n",
       "3          31_8779    31.0  8779.0      12.0  2439.52   2583.07       31   \n",
       "4          31_8780    31.0  8780.0      12.0  2267.28   2447.13       31   \n",
       "...            ...     ...     ...       ...      ...       ...      ...   \n",
       "3390832  8976_8771  8976.0  8771.0      23.0   520.47    493.43     8976   \n",
       "3390833  8976_8772  8976.0  8772.0      23.0   523.07    495.76     8976   \n",
       "3390834  8976_8773  8976.0  8773.0      23.0   532.31    489.34     8976   \n",
       "3390835  8976_8774  8976.0  8774.0      23.0   559.14    498.78     8976   \n",
       "3390836  8976_8775  8976.0  8775.0      23.0   549.14    508.79     8976   \n",
       "\n",
       "         CO_TAZID_i  \n",
       "0              1001  \n",
       "1              1001  \n",
       "2              1001  \n",
       "3              1001  \n",
       "4              1001  \n",
       "...             ...  \n",
       "3390832     -808976  \n",
       "3390833     -808976  \n",
       "3390834     -808976  \n",
       "3390835     -808976  \n",
       "3390836     -808976  \n",
       "\n",
       "[3390837 rows x 8 columns]"
      ],
      "text/html": "<div>\n<style scoped>\n    .dataframe tbody tr th:only-of-type {\n        vertical-align: middle;\n    }\n\n    .dataframe tbody tr th {\n        vertical-align: top;\n    }\n\n    .dataframe thead th {\n        text-align: right;\n    }\n</style>\n<table border=\"1\" class=\"dataframe\">\n  <thead>\n    <tr style=\"text-align: right;\">\n      <th></th>\n      <th>ODPair</th>\n      <th>I</th>\n      <th>J</th>\n      <th>External</th>\n      <th>Time</th>\n      <th>Distance</th>\n      <th>TAZID_i</th>\n      <th>CO_TAZID_i</th>\n    </tr>\n  </thead>\n  <tbody>\n    <tr>\n      <th>0</th>\n      <td>31_8776</td>\n      <td>31.0</td>\n      <td>8776.0</td>\n      <td>12.0</td>\n      <td>2869.37</td>\n      <td>3027.30</td>\n      <td>31</td>\n      <td>1001</td>\n    </tr>\n    <tr>\n      <th>1</th>\n      <td>31_8777</td>\n      <td>31.0</td>\n      <td>8777.0</td>\n      <td>12.0</td>\n      <td>2712.40</td>\n      <td>2846.01</td>\n      <td>31</td>\n      <td>1001</td>\n    </tr>\n    <tr>\n      <th>2</th>\n      <td>31_8778</td>\n      <td>31.0</td>\n      <td>8778.0</td>\n      <td>12.0</td>\n      <td>2509.57</td>\n      <td>2625.02</td>\n      <td>31</td>\n      <td>1001</td>\n    </tr>\n    <tr>\n      <th>3</th>\n      <td>31_8779</td>\n      <td>31.0</td>\n      <td>8779.0</td>\n      <td>12.0</td>\n      <td>2439.52</td>\n      <td>2583.07</td>\n      <td>31</td>\n      <td>1001</td>\n    </tr>\n    <tr>\n      <th>4</th>\n      <td>31_8780</td>\n      <td>31.0</td>\n      <td>8780.0</td>\n      <td>12.0</td>\n      <td>2267.28</td>\n      <td>2447.13</td>\n      <td>31</td>\n      <td>1001</td>\n    </tr>\n    <tr>\n      <th>...</th>\n      <td>...</td>\n      <td>...</td>\n      <td>...</td>\n      <td>...</td>\n      <td>...</td>\n      <td>...</td>\n      <td>...</td>\n      <td>...</td>\n    </tr>\n    <tr>\n      <th>3390832</th>\n      <td>8976_8771</td>\n      <td>8976.0</td>\n      <td>8771.0</td>\n      <td>23.0</td>\n      <td>520.47</td>\n      <td>493.43</td>\n      <td>8976</td>\n      <td>-808976</td>\n    </tr>\n    <tr>\n      <th>3390833</th>\n      <td>8976_8772</td>\n      <td>8976.0</td>\n      <td>8772.0</td>\n      <td>23.0</td>\n      <td>523.07</td>\n      <td>495.76</td>\n      <td>8976</td>\n      <td>-808976</td>\n    </tr>\n    <tr>\n      <th>3390834</th>\n      <td>8976_8773</td>\n      <td>8976.0</td>\n      <td>8773.0</td>\n      <td>23.0</td>\n      <td>532.31</td>\n      <td>489.34</td>\n      <td>8976</td>\n      <td>-808976</td>\n    </tr>\n    <tr>\n      <th>3390835</th>\n      <td>8976_8774</td>\n      <td>8976.0</td>\n      <td>8774.0</td>\n      <td>23.0</td>\n      <td>559.14</td>\n      <td>498.78</td>\n      <td>8976</td>\n      <td>-808976</td>\n    </tr>\n    <tr>\n      <th>3390836</th>\n      <td>8976_8775</td>\n      <td>8976.0</td>\n      <td>8775.0</td>\n      <td>23.0</td>\n      <td>549.14</td>\n      <td>508.79</td>\n      <td>8976</td>\n      <td>-808976</td>\n    </tr>\n  </tbody>\n</table>\n<p>3390837 rows × 8 columns</p>\n</div>"
     },
     "metadata": {},
     "execution_count": 16
    }
   ],
   "source": [
    "df_luExternals_wCoTAZID_i = pd.DataFrame.merge(df_luExternals, df_luTAZ, left_on='I', right_on='TAZID')\n",
    "df_luExternals_wCoTAZID_i = df_luExternals_wCoTAZID_i.rename(columns={\"CO_TAZID\": \"CO_TAZID_i\",\"TAZID\": \"TAZID_i\"})\n",
    "df_luExternals_wCoTAZID_i"
   ]
  },
  {
   "cell_type": "code",
   "execution_count": 17,
   "metadata": {},
   "outputs": [
    {
     "output_type": "execute_result",
     "data": {
      "text/plain": [
       "            ODPair       I       J  External     Time  Distance  TAZID_i  \\\n",
       "0          31_8776    31.0  8776.0      12.0  2869.37   3027.30       31   \n",
       "1          32_8776    32.0  8776.0      12.0  2867.64   3026.35       32   \n",
       "2          33_8776    33.0  8776.0      12.0  2867.51   3026.29       33   \n",
       "3          34_8776    34.0  8776.0      12.0  2867.23   3026.29       34   \n",
       "4          35_8776    35.0  8776.0      12.0  2866.58   3025.66       35   \n",
       "...            ...     ...     ...       ...      ...       ...      ...   \n",
       "3373848  8972_8775  8972.0  8775.0      12.0   565.05    443.95     8972   \n",
       "3373849  8973_8775  8973.0  8775.0       2.0   524.01    513.90     8973   \n",
       "3373850  8974_8775  8974.0  8775.0      18.0   491.53    399.41     8974   \n",
       "3373851  8975_8775  8975.0  8775.0      10.0   545.74    468.97     8975   \n",
       "3373852  8976_8775  8976.0  8775.0      23.0   549.14    508.79     8976   \n",
       "\n",
       "         CO_TAZID_i  TAZID_j  CO_TAZID_j  \n",
       "0              1001     8776     -808776  \n",
       "1              1002     8776     -808776  \n",
       "2              1003     8776     -808776  \n",
       "3              1004     8776     -808776  \n",
       "4              1005     8776     -808776  \n",
       "...             ...      ...         ...  \n",
       "3373848     -808972     8775       51310  \n",
       "3373849     -808973     8775       51310  \n",
       "3373850     -808974     8775       51310  \n",
       "3373851     -808975     8775       51310  \n",
       "3373852     -808976     8775       51310  \n",
       "\n",
       "[3373853 rows x 10 columns]"
      ],
      "text/html": "<div>\n<style scoped>\n    .dataframe tbody tr th:only-of-type {\n        vertical-align: middle;\n    }\n\n    .dataframe tbody tr th {\n        vertical-align: top;\n    }\n\n    .dataframe thead th {\n        text-align: right;\n    }\n</style>\n<table border=\"1\" class=\"dataframe\">\n  <thead>\n    <tr style=\"text-align: right;\">\n      <th></th>\n      <th>ODPair</th>\n      <th>I</th>\n      <th>J</th>\n      <th>External</th>\n      <th>Time</th>\n      <th>Distance</th>\n      <th>TAZID_i</th>\n      <th>CO_TAZID_i</th>\n      <th>TAZID_j</th>\n      <th>CO_TAZID_j</th>\n    </tr>\n  </thead>\n  <tbody>\n    <tr>\n      <th>0</th>\n      <td>31_8776</td>\n      <td>31.0</td>\n      <td>8776.0</td>\n      <td>12.0</td>\n      <td>2869.37</td>\n      <td>3027.30</td>\n      <td>31</td>\n      <td>1001</td>\n      <td>8776</td>\n      <td>-808776</td>\n    </tr>\n    <tr>\n      <th>1</th>\n      <td>32_8776</td>\n      <td>32.0</td>\n      <td>8776.0</td>\n      <td>12.0</td>\n      <td>2867.64</td>\n      <td>3026.35</td>\n      <td>32</td>\n      <td>1002</td>\n      <td>8776</td>\n      <td>-808776</td>\n    </tr>\n    <tr>\n      <th>2</th>\n      <td>33_8776</td>\n      <td>33.0</td>\n      <td>8776.0</td>\n      <td>12.0</td>\n      <td>2867.51</td>\n      <td>3026.29</td>\n      <td>33</td>\n      <td>1003</td>\n      <td>8776</td>\n      <td>-808776</td>\n    </tr>\n    <tr>\n      <th>3</th>\n      <td>34_8776</td>\n      <td>34.0</td>\n      <td>8776.0</td>\n      <td>12.0</td>\n      <td>2867.23</td>\n      <td>3026.29</td>\n      <td>34</td>\n      <td>1004</td>\n      <td>8776</td>\n      <td>-808776</td>\n    </tr>\n    <tr>\n      <th>4</th>\n      <td>35_8776</td>\n      <td>35.0</td>\n      <td>8776.0</td>\n      <td>12.0</td>\n      <td>2866.58</td>\n      <td>3025.66</td>\n      <td>35</td>\n      <td>1005</td>\n      <td>8776</td>\n      <td>-808776</td>\n    </tr>\n    <tr>\n      <th>...</th>\n      <td>...</td>\n      <td>...</td>\n      <td>...</td>\n      <td>...</td>\n      <td>...</td>\n      <td>...</td>\n      <td>...</td>\n      <td>...</td>\n      <td>...</td>\n      <td>...</td>\n    </tr>\n    <tr>\n      <th>3373848</th>\n      <td>8972_8775</td>\n      <td>8972.0</td>\n      <td>8775.0</td>\n      <td>12.0</td>\n      <td>565.05</td>\n      <td>443.95</td>\n      <td>8972</td>\n      <td>-808972</td>\n      <td>8775</td>\n      <td>51310</td>\n    </tr>\n    <tr>\n      <th>3373849</th>\n      <td>8973_8775</td>\n      <td>8973.0</td>\n      <td>8775.0</td>\n      <td>2.0</td>\n      <td>524.01</td>\n      <td>513.90</td>\n      <td>8973</td>\n      <td>-808973</td>\n      <td>8775</td>\n      <td>51310</td>\n    </tr>\n    <tr>\n      <th>3373850</th>\n      <td>8974_8775</td>\n      <td>8974.0</td>\n      <td>8775.0</td>\n      <td>18.0</td>\n      <td>491.53</td>\n      <td>399.41</td>\n      <td>8974</td>\n      <td>-808974</td>\n      <td>8775</td>\n      <td>51310</td>\n    </tr>\n    <tr>\n      <th>3373851</th>\n      <td>8975_8775</td>\n      <td>8975.0</td>\n      <td>8775.0</td>\n      <td>10.0</td>\n      <td>545.74</td>\n      <td>468.97</td>\n      <td>8975</td>\n      <td>-808975</td>\n      <td>8775</td>\n      <td>51310</td>\n    </tr>\n    <tr>\n      <th>3373852</th>\n      <td>8976_8775</td>\n      <td>8976.0</td>\n      <td>8775.0</td>\n      <td>23.0</td>\n      <td>549.14</td>\n      <td>508.79</td>\n      <td>8976</td>\n      <td>-808976</td>\n      <td>8775</td>\n      <td>51310</td>\n    </tr>\n  </tbody>\n</table>\n<p>3373853 rows × 10 columns</p>\n</div>"
     },
     "metadata": {},
     "execution_count": 17
    }
   ],
   "source": [
    "df_luExternals_wCoTAZID_j = pd.DataFrame.merge(df_luExternals_wCoTAZID_i, df_luTAZ, left_on='J', right_on='TAZID')\n",
    "df_luExternals_wCoTAZID_j = df_luExternals_wCoTAZID_j.rename(columns={\"CO_TAZID\": \"CO_TAZID_j\",\"TAZID\": \"TAZID_j\"})\n",
    "df_luExternals_wCoTAZID_j"
   ]
  },
  {
   "cell_type": "code",
   "execution_count": 34,
   "metadata": {},
   "outputs": [
    {
     "output_type": "execute_result",
     "data": {
      "text/plain": [
       "            ODPair  TAZID_i  TAZID_j  CO_TAZID_i  CO_TAZID_j  External\n",
       "0          31_8776       31     8776        1001     -808776      12.0\n",
       "1          32_8776       32     8776        1002     -808776      12.0\n",
       "2          33_8776       33     8776        1003     -808776      12.0\n",
       "3          34_8776       34     8776        1004     -808776      12.0\n",
       "4          35_8776       35     8776        1005     -808776      12.0\n",
       "...            ...      ...      ...         ...         ...       ...\n",
       "3373848  8972_8775     8972     8775     -808972       51310      12.0\n",
       "3373849  8973_8775     8973     8775     -808973       51310       2.0\n",
       "3373850  8974_8775     8974     8775     -808974       51310      18.0\n",
       "3373851  8975_8775     8975     8775     -808975       51310      10.0\n",
       "3373852  8976_8775     8976     8775     -808976       51310      23.0\n",
       "\n",
       "[3373853 rows x 6 columns]"
      ],
      "text/html": "<div>\n<style scoped>\n    .dataframe tbody tr th:only-of-type {\n        vertical-align: middle;\n    }\n\n    .dataframe tbody tr th {\n        vertical-align: top;\n    }\n\n    .dataframe thead th {\n        text-align: right;\n    }\n</style>\n<table border=\"1\" class=\"dataframe\">\n  <thead>\n    <tr style=\"text-align: right;\">\n      <th></th>\n      <th>ODPair</th>\n      <th>TAZID_i</th>\n      <th>TAZID_j</th>\n      <th>CO_TAZID_i</th>\n      <th>CO_TAZID_j</th>\n      <th>External</th>\n    </tr>\n  </thead>\n  <tbody>\n    <tr>\n      <th>0</th>\n      <td>31_8776</td>\n      <td>31</td>\n      <td>8776</td>\n      <td>1001</td>\n      <td>-808776</td>\n      <td>12.0</td>\n    </tr>\n    <tr>\n      <th>1</th>\n      <td>32_8776</td>\n      <td>32</td>\n      <td>8776</td>\n      <td>1002</td>\n      <td>-808776</td>\n      <td>12.0</td>\n    </tr>\n    <tr>\n      <th>2</th>\n      <td>33_8776</td>\n      <td>33</td>\n      <td>8776</td>\n      <td>1003</td>\n      <td>-808776</td>\n      <td>12.0</td>\n    </tr>\n    <tr>\n      <th>3</th>\n      <td>34_8776</td>\n      <td>34</td>\n      <td>8776</td>\n      <td>1004</td>\n      <td>-808776</td>\n      <td>12.0</td>\n    </tr>\n    <tr>\n      <th>4</th>\n      <td>35_8776</td>\n      <td>35</td>\n      <td>8776</td>\n      <td>1005</td>\n      <td>-808776</td>\n      <td>12.0</td>\n    </tr>\n    <tr>\n      <th>...</th>\n      <td>...</td>\n      <td>...</td>\n      <td>...</td>\n      <td>...</td>\n      <td>...</td>\n      <td>...</td>\n    </tr>\n    <tr>\n      <th>3373848</th>\n      <td>8972_8775</td>\n      <td>8972</td>\n      <td>8775</td>\n      <td>-808972</td>\n      <td>51310</td>\n      <td>12.0</td>\n    </tr>\n    <tr>\n      <th>3373849</th>\n      <td>8973_8775</td>\n      <td>8973</td>\n      <td>8775</td>\n      <td>-808973</td>\n      <td>51310</td>\n      <td>2.0</td>\n    </tr>\n    <tr>\n      <th>3373850</th>\n      <td>8974_8775</td>\n      <td>8974</td>\n      <td>8775</td>\n      <td>-808974</td>\n      <td>51310</td>\n      <td>18.0</td>\n    </tr>\n    <tr>\n      <th>3373851</th>\n      <td>8975_8775</td>\n      <td>8975</td>\n      <td>8775</td>\n      <td>-808975</td>\n      <td>51310</td>\n      <td>10.0</td>\n    </tr>\n    <tr>\n      <th>3373852</th>\n      <td>8976_8775</td>\n      <td>8976</td>\n      <td>8775</td>\n      <td>-808976</td>\n      <td>51310</td>\n      <td>23.0</td>\n    </tr>\n  </tbody>\n</table>\n<p>3373853 rows × 6 columns</p>\n</div>"
     },
     "metadata": {},
     "execution_count": 34
    }
   ],
   "source": [
    "df_luExternals_wCoTAZID = df_luExternals_wCoTAZID_j[['ODPair','TAZID_i','TAZID_j','CO_TAZID_i','CO_TAZID_j','External']]\n",
    "df_luExternals_wCoTAZID"
   ]
  },
  {
   "cell_type": "code",
   "execution_count": 54,
   "metadata": {},
   "outputs": [
    {
     "output_type": "execute_result",
     "data": {
      "text/plain": [
       "     record_id trip_pur_t     weight  o_CO_TAZID  d_CO_TAZID     ODPair  \\\n",
       "0         1311        HBW  19.457436       50155     -808956  6583_8956   \n",
       "1         1312        HBW  19.457436     -808956       50155  8956_6583   \n",
       "2         1418      NHBNW  56.887142      530504     -808927  7854_8927   \n",
       "3         1419      NHBNW  56.887142     -808927      530256  8927_7606   \n",
       "4         1422      NHBNW  56.887142      530530     -808927  7880_8927   \n",
       "..         ...        ...        ...         ...         ...        ...   \n",
       "544     103039        HBW  38.316773      530285     -808927  7635_8927   \n",
       "545     103052        HBW  31.184202      530105     -808927  7455_8927   \n",
       "546     103095        HBW  45.175257     -808927      530153  8927_7503   \n",
       "547     103144        HBW  18.536184      530296     -808927  7646_8927   \n",
       "548     103145        HBW  18.536184     -808927      530296  8927_7646   \n",
       "\n",
       "     TAZID_i  TAZID_j  CO_TAZID_i  CO_TAZID_j  External  \n",
       "0     6583.0   8956.0     50155.0   -808956.0      22.0  \n",
       "1     8956.0   6583.0   -808956.0     50155.0      22.0  \n",
       "2     7854.0   8927.0    530504.0   -808927.0       3.0  \n",
       "3     8927.0   7606.0   -808927.0    530256.0       3.0  \n",
       "4     7880.0   8927.0    530530.0   -808927.0       3.0  \n",
       "..       ...      ...         ...         ...       ...  \n",
       "544   7635.0   8927.0    530285.0   -808927.0       3.0  \n",
       "545   7455.0   8927.0    530105.0   -808927.0       3.0  \n",
       "546   8927.0   7503.0   -808927.0    530153.0       3.0  \n",
       "547   7646.0   8927.0    530296.0   -808927.0       3.0  \n",
       "548   8927.0   7646.0   -808927.0    530296.0       3.0  \n",
       "\n",
       "[549 rows x 11 columns]"
      ],
      "text/html": "<div>\n<style scoped>\n    .dataframe tbody tr th:only-of-type {\n        vertical-align: middle;\n    }\n\n    .dataframe tbody tr th {\n        vertical-align: top;\n    }\n\n    .dataframe thead th {\n        text-align: right;\n    }\n</style>\n<table border=\"1\" class=\"dataframe\">\n  <thead>\n    <tr style=\"text-align: right;\">\n      <th></th>\n      <th>record_id</th>\n      <th>trip_pur_t</th>\n      <th>weight</th>\n      <th>o_CO_TAZID</th>\n      <th>d_CO_TAZID</th>\n      <th>ODPair</th>\n      <th>TAZID_i</th>\n      <th>TAZID_j</th>\n      <th>CO_TAZID_i</th>\n      <th>CO_TAZID_j</th>\n      <th>External</th>\n    </tr>\n  </thead>\n  <tbody>\n    <tr>\n      <th>0</th>\n      <td>1311</td>\n      <td>HBW</td>\n      <td>19.457436</td>\n      <td>50155</td>\n      <td>-808956</td>\n      <td>6583_8956</td>\n      <td>6583.0</td>\n      <td>8956.0</td>\n      <td>50155.0</td>\n      <td>-808956.0</td>\n      <td>22.0</td>\n    </tr>\n    <tr>\n      <th>1</th>\n      <td>1312</td>\n      <td>HBW</td>\n      <td>19.457436</td>\n      <td>-808956</td>\n      <td>50155</td>\n      <td>8956_6583</td>\n      <td>8956.0</td>\n      <td>6583.0</td>\n      <td>-808956.0</td>\n      <td>50155.0</td>\n      <td>22.0</td>\n    </tr>\n    <tr>\n      <th>2</th>\n      <td>1418</td>\n      <td>NHBNW</td>\n      <td>56.887142</td>\n      <td>530504</td>\n      <td>-808927</td>\n      <td>7854_8927</td>\n      <td>7854.0</td>\n      <td>8927.0</td>\n      <td>530504.0</td>\n      <td>-808927.0</td>\n      <td>3.0</td>\n    </tr>\n    <tr>\n      <th>3</th>\n      <td>1419</td>\n      <td>NHBNW</td>\n      <td>56.887142</td>\n      <td>-808927</td>\n      <td>530256</td>\n      <td>8927_7606</td>\n      <td>8927.0</td>\n      <td>7606.0</td>\n      <td>-808927.0</td>\n      <td>530256.0</td>\n      <td>3.0</td>\n    </tr>\n    <tr>\n      <th>4</th>\n      <td>1422</td>\n      <td>NHBNW</td>\n      <td>56.887142</td>\n      <td>530530</td>\n      <td>-808927</td>\n      <td>7880_8927</td>\n      <td>7880.0</td>\n      <td>8927.0</td>\n      <td>530530.0</td>\n      <td>-808927.0</td>\n      <td>3.0</td>\n    </tr>\n    <tr>\n      <th>...</th>\n      <td>...</td>\n      <td>...</td>\n      <td>...</td>\n      <td>...</td>\n      <td>...</td>\n      <td>...</td>\n      <td>...</td>\n      <td>...</td>\n      <td>...</td>\n      <td>...</td>\n      <td>...</td>\n    </tr>\n    <tr>\n      <th>544</th>\n      <td>103039</td>\n      <td>HBW</td>\n      <td>38.316773</td>\n      <td>530285</td>\n      <td>-808927</td>\n      <td>7635_8927</td>\n      <td>7635.0</td>\n      <td>8927.0</td>\n      <td>530285.0</td>\n      <td>-808927.0</td>\n      <td>3.0</td>\n    </tr>\n    <tr>\n      <th>545</th>\n      <td>103052</td>\n      <td>HBW</td>\n      <td>31.184202</td>\n      <td>530105</td>\n      <td>-808927</td>\n      <td>7455_8927</td>\n      <td>7455.0</td>\n      <td>8927.0</td>\n      <td>530105.0</td>\n      <td>-808927.0</td>\n      <td>3.0</td>\n    </tr>\n    <tr>\n      <th>546</th>\n      <td>103095</td>\n      <td>HBW</td>\n      <td>45.175257</td>\n      <td>-808927</td>\n      <td>530153</td>\n      <td>8927_7503</td>\n      <td>8927.0</td>\n      <td>7503.0</td>\n      <td>-808927.0</td>\n      <td>530153.0</td>\n      <td>3.0</td>\n    </tr>\n    <tr>\n      <th>547</th>\n      <td>103144</td>\n      <td>HBW</td>\n      <td>18.536184</td>\n      <td>530296</td>\n      <td>-808927</td>\n      <td>7646_8927</td>\n      <td>7646.0</td>\n      <td>8927.0</td>\n      <td>530296.0</td>\n      <td>-808927.0</td>\n      <td>3.0</td>\n    </tr>\n    <tr>\n      <th>548</th>\n      <td>103145</td>\n      <td>HBW</td>\n      <td>18.536184</td>\n      <td>-808927</td>\n      <td>530296</td>\n      <td>8927_7646</td>\n      <td>8927.0</td>\n      <td>7646.0</td>\n      <td>-808927.0</td>\n      <td>530296.0</td>\n      <td>3.0</td>\n    </tr>\n  </tbody>\n</table>\n<p>549 rows × 11 columns</p>\n</div>"
     },
     "metadata": {},
     "execution_count": 54
    }
   ],
   "source": [
    "#combine i and j dataframes to get all IXXI trips\n",
    "df_TripData_IXXI_ExternalNum = pd.DataFrame.merge(df_TripData_IXXI, df_luExternals_wCoTAZID, left_on=('o_CO_TAZID','d_CO_TAZID'), right_on=('CO_TAZID_i','CO_TAZID_j'), how='left')\n",
    "\n",
    "df_TripData_IXXI_ExternalNum"
   ]
  },
  {
   "cell_type": "code",
   "execution_count": 69,
   "metadata": {},
   "outputs": [
    {
     "output_type": "execute_result",
     "data": {
      "text/plain": [
       "    ODPair_CO_TAZID  CO_TAZID_I  CO_TAZID_X  External\n",
       "100    1017_-808927        1017     -808927       3.0\n",
       "32     1018_-808949        1018     -808949       3.0\n",
       "315  110446_-808965      110446     -808965      18.0\n",
       "316  110446_-808965      110446     -808965      18.0\n",
       "271  110492_-808934      110492     -808934       3.0\n",
       "..              ...         ...         ...       ...\n",
       "299  570346_-808967      570346     -808967      27.0\n",
       "327  570396_-808956      570396     -808956      22.0\n",
       "282  570401_-808927      570401     -808927       3.0\n",
       "340  570412_-808938      570412     -808938      27.0\n",
       "412  570415_-808927      570415     -808927       3.0\n",
       "\n",
       "[324 rows x 4 columns]"
      ],
      "text/html": "<div>\n<style scoped>\n    .dataframe tbody tr th:only-of-type {\n        vertical-align: middle;\n    }\n\n    .dataframe tbody tr th {\n        vertical-align: top;\n    }\n\n    .dataframe thead th {\n        text-align: right;\n    }\n</style>\n<table border=\"1\" class=\"dataframe\">\n  <thead>\n    <tr style=\"text-align: right;\">\n      <th></th>\n      <th>ODPair_CO_TAZID</th>\n      <th>CO_TAZID_I</th>\n      <th>CO_TAZID_X</th>\n      <th>External</th>\n    </tr>\n  </thead>\n  <tbody>\n    <tr>\n      <th>100</th>\n      <td>1017_-808927</td>\n      <td>1017</td>\n      <td>-808927</td>\n      <td>3.0</td>\n    </tr>\n    <tr>\n      <th>32</th>\n      <td>1018_-808949</td>\n      <td>1018</td>\n      <td>-808949</td>\n      <td>3.0</td>\n    </tr>\n    <tr>\n      <th>315</th>\n      <td>110446_-808965</td>\n      <td>110446</td>\n      <td>-808965</td>\n      <td>18.0</td>\n    </tr>\n    <tr>\n      <th>316</th>\n      <td>110446_-808965</td>\n      <td>110446</td>\n      <td>-808965</td>\n      <td>18.0</td>\n    </tr>\n    <tr>\n      <th>271</th>\n      <td>110492_-808934</td>\n      <td>110492</td>\n      <td>-808934</td>\n      <td>3.0</td>\n    </tr>\n    <tr>\n      <th>...</th>\n      <td>...</td>\n      <td>...</td>\n      <td>...</td>\n      <td>...</td>\n    </tr>\n    <tr>\n      <th>299</th>\n      <td>570346_-808967</td>\n      <td>570346</td>\n      <td>-808967</td>\n      <td>27.0</td>\n    </tr>\n    <tr>\n      <th>327</th>\n      <td>570396_-808956</td>\n      <td>570396</td>\n      <td>-808956</td>\n      <td>22.0</td>\n    </tr>\n    <tr>\n      <th>282</th>\n      <td>570401_-808927</td>\n      <td>570401</td>\n      <td>-808927</td>\n      <td>3.0</td>\n    </tr>\n    <tr>\n      <th>340</th>\n      <td>570412_-808938</td>\n      <td>570412</td>\n      <td>-808938</td>\n      <td>27.0</td>\n    </tr>\n    <tr>\n      <th>412</th>\n      <td>570415_-808927</td>\n      <td>570415</td>\n      <td>-808927</td>\n      <td>3.0</td>\n    </tr>\n  </tbody>\n</table>\n<p>324 rows × 4 columns</p>\n</div>"
     },
     "metadata": {},
     "execution_count": 69
    }
   ],
   "source": [
    "df_Lookup = df_TripData_IXXI_ExternalNum[['TAZID_i','TAZID_j','o_CO_TAZID','d_CO_TAZID','External']].drop_duplicates() \n",
    "\n",
    "df_Lookup['TAZID_I'] = df_Lookup[['TAZID_i','TAZID_j']].min(axis=1)\n",
    "df_Lookup['TAZID_X'] = df_Lookup[['TAZID_i','TAZID_j']].max(axis=1)\n",
    "\n",
    "df_Lookup['CO_TAZID_I'] = df_Lookup[['o_CO_TAZID','d_CO_TAZID']].max(axis=1) #max because external co_tazids are negative\n",
    "df_Lookup['CO_TAZID_X'] = df_Lookup[['o_CO_TAZID','d_CO_TAZID']].min(axis=1) #min because external co_tazids are negative\n",
    "\n",
    "\n",
    "df_Lookup['ODPair_TAZID'   ] = df_Lookup['TAZID_I'   ].astype(str) + \"_\" + df_Lookup['TAZID_X'   ].astype(str)\n",
    "df_Lookup['ODPair_CO_TAZID'] = df_Lookup['CO_TAZID_I'].astype(str) + \"_\" + df_Lookup['CO_TAZID_X'].astype(str)\n",
    "#df_Lookup = df_Lookup[.rename(columns={\"TAZID_i\": \"o_TAZID\",\"TAZID_j\": \"d_TAZID\"})]\n",
    "df_Lookup = df_Lookup.sort_values(by=['ODPair_CO_TAZID'])\n",
    "\n",
    "df_Lookup = df_Lookup[['ODPair_CO_TAZID','CO_TAZID_I','CO_TAZID_X','External']]\n",
    "df_Lookup"
   ]
  },
  {
   "cell_type": "code",
   "execution_count": 70,
   "metadata": {},
   "outputs": [
    {
     "output_type": "execute_result",
     "data": {
      "text/plain": [
       "    ODPair_CO_TAZID  CO_TAZID_I  CO_TAZID_X  External\n",
       "379  351731_-808964      351731     -808964       NaN"
      ],
      "text/html": "<div>\n<style scoped>\n    .dataframe tbody tr th:only-of-type {\n        vertical-align: middle;\n    }\n\n    .dataframe tbody tr th {\n        vertical-align: top;\n    }\n\n    .dataframe thead th {\n        text-align: right;\n    }\n</style>\n<table border=\"1\" class=\"dataframe\">\n  <thead>\n    <tr style=\"text-align: right;\">\n      <th></th>\n      <th>ODPair_CO_TAZID</th>\n      <th>CO_TAZID_I</th>\n      <th>CO_TAZID_X</th>\n      <th>External</th>\n    </tr>\n  </thead>\n  <tbody>\n    <tr>\n      <th>379</th>\n      <td>351731_-808964</td>\n      <td>351731</td>\n      <td>-808964</td>\n      <td>NaN</td>\n    </tr>\n  </tbody>\n</table>\n</div>"
     },
     "metadata": {},
     "execution_count": 70
    }
   ],
   "source": [
    "df_LookupNA = df_Lookup[df_Lookup.isna().any(axis=1)]\n",
    "df_LookupNA\n"
   ]
  },
  {
   "source": [
    "#manually set for record with quickest ix-xi path crosses state boundary multiple times. First external was selected\n",
    "df_Lookup.loc[(df_Lookup['ODPair_CO_TAZID'] == '351731_-808964'), 'External'] = 18\n",
    "df_Lookup['External'] = df_Lookup['External'].astype('int')\n",
    "df_Lookup"
   ],
   "cell_type": "code",
   "metadata": {},
   "execution_count": 77,
   "outputs": [
    {
     "output_type": "execute_result",
     "data": {
      "text/plain": [
       "    ODPair_CO_TAZID  CO_TAZID_I  CO_TAZID_X  External\n",
       "100    1017_-808927        1017     -808927         3\n",
       "32     1018_-808949        1018     -808949         3\n",
       "315  110446_-808965      110446     -808965        18\n",
       "316  110446_-808965      110446     -808965        18\n",
       "271  110492_-808934      110492     -808934         3\n",
       "..              ...         ...         ...       ...\n",
       "299  570346_-808967      570346     -808967        27\n",
       "327  570396_-808956      570396     -808956        22\n",
       "282  570401_-808927      570401     -808927         3\n",
       "340  570412_-808938      570412     -808938        27\n",
       "412  570415_-808927      570415     -808927         3\n",
       "\n",
       "[324 rows x 4 columns]"
      ],
      "text/html": "<div>\n<style scoped>\n    .dataframe tbody tr th:only-of-type {\n        vertical-align: middle;\n    }\n\n    .dataframe tbody tr th {\n        vertical-align: top;\n    }\n\n    .dataframe thead th {\n        text-align: right;\n    }\n</style>\n<table border=\"1\" class=\"dataframe\">\n  <thead>\n    <tr style=\"text-align: right;\">\n      <th></th>\n      <th>ODPair_CO_TAZID</th>\n      <th>CO_TAZID_I</th>\n      <th>CO_TAZID_X</th>\n      <th>External</th>\n    </tr>\n  </thead>\n  <tbody>\n    <tr>\n      <th>100</th>\n      <td>1017_-808927</td>\n      <td>1017</td>\n      <td>-808927</td>\n      <td>3</td>\n    </tr>\n    <tr>\n      <th>32</th>\n      <td>1018_-808949</td>\n      <td>1018</td>\n      <td>-808949</td>\n      <td>3</td>\n    </tr>\n    <tr>\n      <th>315</th>\n      <td>110446_-808965</td>\n      <td>110446</td>\n      <td>-808965</td>\n      <td>18</td>\n    </tr>\n    <tr>\n      <th>316</th>\n      <td>110446_-808965</td>\n      <td>110446</td>\n      <td>-808965</td>\n      <td>18</td>\n    </tr>\n    <tr>\n      <th>271</th>\n      <td>110492_-808934</td>\n      <td>110492</td>\n      <td>-808934</td>\n      <td>3</td>\n    </tr>\n    <tr>\n      <th>...</th>\n      <td>...</td>\n      <td>...</td>\n      <td>...</td>\n      <td>...</td>\n    </tr>\n    <tr>\n      <th>299</th>\n      <td>570346_-808967</td>\n      <td>570346</td>\n      <td>-808967</td>\n      <td>27</td>\n    </tr>\n    <tr>\n      <th>327</th>\n      <td>570396_-808956</td>\n      <td>570396</td>\n      <td>-808956</td>\n      <td>22</td>\n    </tr>\n    <tr>\n      <th>282</th>\n      <td>570401_-808927</td>\n      <td>570401</td>\n      <td>-808927</td>\n      <td>3</td>\n    </tr>\n    <tr>\n      <th>340</th>\n      <td>570412_-808938</td>\n      <td>570412</td>\n      <td>-808938</td>\n      <td>27</td>\n    </tr>\n    <tr>\n      <th>412</th>\n      <td>570415_-808927</td>\n      <td>570415</td>\n      <td>-808927</td>\n      <td>3</td>\n    </tr>\n  </tbody>\n</table>\n<p>324 rows × 4 columns</p>\n</div>"
     },
     "metadata": {},
     "execution_count": 77
    }
   ]
  },
  {
   "cell_type": "code",
   "execution_count": 78,
   "metadata": {},
   "outputs": [
    {
     "output_type": "execute_result",
     "data": {
      "text/plain": [
       "Empty DataFrame\n",
       "Columns: [ODPair_CO_TAZID, CO_TAZID_I, CO_TAZID_X, External]\n",
       "Index: []"
      ],
      "text/html": "<div>\n<style scoped>\n    .dataframe tbody tr th:only-of-type {\n        vertical-align: middle;\n    }\n\n    .dataframe tbody tr th {\n        vertical-align: top;\n    }\n\n    .dataframe thead th {\n        text-align: right;\n    }\n</style>\n<table border=\"1\" class=\"dataframe\">\n  <thead>\n    <tr style=\"text-align: right;\">\n      <th></th>\n      <th>ODPair_CO_TAZID</th>\n      <th>CO_TAZID_I</th>\n      <th>CO_TAZID_X</th>\n      <th>External</th>\n    </tr>\n  </thead>\n  <tbody>\n  </tbody>\n</table>\n</div>"
     },
     "metadata": {},
     "execution_count": 78
    }
   ],
   "source": [
    "df_LookupNA = df_Lookup[df_Lookup.isna().any(axis=1)]\n",
    "df_LookupNA\n"
   ]
  },
  {
   "cell_type": "code",
   "execution_count": 79,
   "metadata": {},
   "outputs": [],
   "source": [
    "#export to csv\n",
    "df_Lookup.to_csv(os.path.join(dirResults, \"HHSExternalsLookup.csv\"),index=False)"
   ]
  },
  {
   "cell_type": "code",
   "execution_count": null,
   "metadata": {},
   "outputs": [],
   "source": []
  }
 ],
 "metadata": {
  "kernelspec": {
   "name": "python3",
   "display_name": "Python 3.7.10 64-bit ('arcgispro-py3-clone')"
  },
  "language_info": {
   "codemirror_mode": {
    "name": "ipython",
    "version": 3
   },
   "file_extension": ".py",
   "mimetype": "text/x-python",
   "name": "python",
   "nbconvert_exporter": "python",
   "pygments_lexer": "ipython3",
   "version": "3.7.10"
  },
  "interpreter": {
   "hash": "75725ccd9ac20bebca6cdd378b8353d816998d7cf4fc0f3797ff87c4404072a5"
  }
 },
 "nbformat": 4,
 "nbformat_minor": 4
}