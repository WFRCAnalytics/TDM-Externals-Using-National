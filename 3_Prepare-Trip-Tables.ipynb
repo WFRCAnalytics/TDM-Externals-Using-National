{
 "cells": [
  {
   "cell_type": "code",
   "execution_count": 1,
   "metadata": {},
   "outputs": [],
   "source": [
    "import numpy as np\n",
    "import os\n",
    "import pandas as pd\n",
    "import arcpy\n",
    "import pyxlsb\n",
    "\n",
    "# Import the required ArcGIS API for Python modules\n",
    "import arcgis\n",
    "from arcgis.gis import GIS\n",
    "gis = arcgis.GIS()\n",
    "from arcgis.geoanalytics import manage_data\n",
    "\n",
    "from IPython.display import display, Markdown"
   ]
  },
  {
   "cell_type": "code",
   "execution_count": 2,
   "metadata": {},
   "outputs": [],
   "source": [
    "dirWork         = os.getcwd()\n",
    "dirInput        = os.path.join(dirWork, r'input'               )\n",
    "dirIntermediate = os.path.join(dirWork, r'intermediate'        )\n",
    "dirResults      = os.path.join(dirWork, r'results'             )\n",
    "dirHHSurvey     = os.path.join(dirWork, r'0 - HH Travel Survey')"
   ]
  },
  {
   "cell_type": "code",
   "execution_count": 3,
   "metadata": {},
   "outputs": [],
   "source": [
    "#globals\n",
    "filename_HHSurvey            = os.path.join(dirHHSurvey, r'2012_HHSurvey - USTMv2.1a - 2021-07-13 - Master.xlsb')\n",
    "filename_ExternalLookupTable = os.path.join(dirWork, r'2_skim_through_externals\\ExternalLookup.csv')\n",
    "filename_TAZ                 = os.path.join(dirWork, r'0 - HH Travel Survey\\TAZ\\USTM TAZ - v21a\\TAZ_v21a_wNatCoGrps_NAD83_v2.shp')\n",
    "\n",
    "sheetname_TripData = 'TripData_2021-07-06'\n"
   ]
  },
  {
   "cell_type": "code",
   "execution_count": 4,
   "metadata": {},
   "outputs": [],
   "source": [
    "#import excel spreadsheet\n",
    "df_TripData = pd.read_excel(filename_HHSurvey, sheet_name=sheetname_TripData, engine='pyxlsb')"
   ]
  },
  {
   "cell_type": "code",
   "execution_count": 5,
   "metadata": {},
   "outputs": [],
   "source": [
    "#help\n",
    "#?pd.read_excel"
   ]
  },
  {
   "cell_type": "code",
   "execution_count": 6,
   "metadata": {
    "scrolled": true
   },
   "outputs": [],
   "source": [
    "#display(df_TripData.columns.tolist())"
   ]
  },
  {
   "cell_type": "code",
   "execution_count": 7,
   "metadata": {},
   "outputs": [
    {
     "output_type": "display_data",
     "data": {
      "text/plain": "       record_id trip_pur_t     weight PA_AP  p_CO_TAZID  a_CO_TAZID\n1282        1311        HBW  19.457436    PA       50155     -808956\n1283        1312        HBW  19.457436    AP       50155     -808956\n1387        1418      NHBNW  56.887142    PA      530504     -808927\n1388        1419      NHBNW  56.887142    PA     -808927      530256\n1391        1422      NHBNW  56.887142    PA      530530     -808927\n...          ...        ...        ...   ...         ...         ...\n99197     103039        HBW  38.316773    PA      530285     -808927\n99210     103052        HBW  31.184202    PA      530105     -808927\n99253     103095        HBW  45.175257    AP      530153     -808927\n99302     103144        HBW  18.536184    PA      530296     -808927\n99303     103145        HBW  18.536184    AP      530296     -808927\n\n[549 rows x 6 columns]",
      "text/html": "<div>\n<style scoped>\n    .dataframe tbody tr th:only-of-type {\n        vertical-align: middle;\n    }\n\n    .dataframe tbody tr th {\n        vertical-align: top;\n    }\n\n    .dataframe thead th {\n        text-align: right;\n    }\n</style>\n<table border=\"1\" class=\"dataframe\">\n  <thead>\n    <tr style=\"text-align: right;\">\n      <th></th>\n      <th>record_id</th>\n      <th>trip_pur_t</th>\n      <th>weight</th>\n      <th>PA_AP</th>\n      <th>p_CO_TAZID</th>\n      <th>a_CO_TAZID</th>\n    </tr>\n  </thead>\n  <tbody>\n    <tr>\n      <th>1282</th>\n      <td>1311</td>\n      <td>HBW</td>\n      <td>19.457436</td>\n      <td>PA</td>\n      <td>50155</td>\n      <td>-808956</td>\n    </tr>\n    <tr>\n      <th>1283</th>\n      <td>1312</td>\n      <td>HBW</td>\n      <td>19.457436</td>\n      <td>AP</td>\n      <td>50155</td>\n      <td>-808956</td>\n    </tr>\n    <tr>\n      <th>1387</th>\n      <td>1418</td>\n      <td>NHBNW</td>\n      <td>56.887142</td>\n      <td>PA</td>\n      <td>530504</td>\n      <td>-808927</td>\n    </tr>\n    <tr>\n      <th>1388</th>\n      <td>1419</td>\n      <td>NHBNW</td>\n      <td>56.887142</td>\n      <td>PA</td>\n      <td>-808927</td>\n      <td>530256</td>\n    </tr>\n    <tr>\n      <th>1391</th>\n      <td>1422</td>\n      <td>NHBNW</td>\n      <td>56.887142</td>\n      <td>PA</td>\n      <td>530530</td>\n      <td>-808927</td>\n    </tr>\n    <tr>\n      <th>...</th>\n      <td>...</td>\n      <td>...</td>\n      <td>...</td>\n      <td>...</td>\n      <td>...</td>\n      <td>...</td>\n    </tr>\n    <tr>\n      <th>99197</th>\n      <td>103039</td>\n      <td>HBW</td>\n      <td>38.316773</td>\n      <td>PA</td>\n      <td>530285</td>\n      <td>-808927</td>\n    </tr>\n    <tr>\n      <th>99210</th>\n      <td>103052</td>\n      <td>HBW</td>\n      <td>31.184202</td>\n      <td>PA</td>\n      <td>530105</td>\n      <td>-808927</td>\n    </tr>\n    <tr>\n      <th>99253</th>\n      <td>103095</td>\n      <td>HBW</td>\n      <td>45.175257</td>\n      <td>AP</td>\n      <td>530153</td>\n      <td>-808927</td>\n    </tr>\n    <tr>\n      <th>99302</th>\n      <td>103144</td>\n      <td>HBW</td>\n      <td>18.536184</td>\n      <td>PA</td>\n      <td>530296</td>\n      <td>-808927</td>\n    </tr>\n    <tr>\n      <th>99303</th>\n      <td>103145</td>\n      <td>HBW</td>\n      <td>18.536184</td>\n      <td>AP</td>\n      <td>530296</td>\n      <td>-808927</td>\n    </tr>\n  </tbody>\n</table>\n<p>549 rows × 6 columns</p>\n</div>"
     },
     "metadata": {}
    },
    {
     "output_type": "display_data",
     "data": {
      "text/plain": "weight    49255.08282\ndtype: float64"
     },
     "metadata": {}
    }
   ],
   "source": [
    "df_TripData_IXXI = df_TripData[['record_id','trip_pur_t','weight','PA_AP','p_CO_TAZID','a_CO_TAZID']]\n",
    "\n",
    "#filter so only IX and XI trips are left\n",
    "df_TripData_IXXI = df_TripData_IXXI.loc[(df_TripData_IXXI['p_CO_TAZID']<0) | (df_TripData_IXXI['a_CO_TAZID']<0)]\n",
    "df_TripData_IXXI = df_TripData_IXXI.loc[(df_TripData_IXXI['p_CO_TAZID']>0) | (df_TripData_IXXI['a_CO_TAZID']>0)]\n",
    "\n",
    "display(df_TripData_IXXI)\n",
    "display(df_TripData_IXXI[['weight']].sum())"
   ]
  },
  {
   "cell_type": "code",
   "execution_count": 8,
   "metadata": {},
   "outputs": [],
   "source": [
    "#read in lookup table\n",
    "df_luExternals = pd.read_csv(filename_ExternalLookupTable)"
   ]
  },
  {
   "cell_type": "code",
   "execution_count": 9,
   "metadata": {},
   "outputs": [
    {
     "output_type": "execute_result",
     "data": {
      "text/plain": [
       "            ODPair       I       J  External     Time  Distance\n",
       "0          31_8776    31.0  8776.0      12.0  2869.37   3027.30\n",
       "1          31_8777    31.0  8777.0      12.0  2712.40   2846.01\n",
       "2          31_8778    31.0  8778.0      12.0  2509.57   2625.02\n",
       "3          31_8779    31.0  8779.0      12.0  2439.52   2583.07\n",
       "4          31_8780    31.0  8780.0      12.0  2267.28   2447.13\n",
       "...            ...     ...     ...       ...      ...       ...\n",
       "3407818  8976_8771  8976.0  8771.0      23.0   520.47    493.43\n",
       "3407819  8976_8772  8976.0  8772.0      23.0   523.07    495.76\n",
       "3407820  8976_8773  8976.0  8773.0      23.0   532.31    489.34\n",
       "3407821  8976_8774  8976.0  8774.0      23.0   559.14    498.78\n",
       "3407822  8976_8775  8976.0  8775.0      23.0   549.14    508.79\n",
       "\n",
       "[3407823 rows x 6 columns]"
      ],
      "text/html": "<div>\n<style scoped>\n    .dataframe tbody tr th:only-of-type {\n        vertical-align: middle;\n    }\n\n    .dataframe tbody tr th {\n        vertical-align: top;\n    }\n\n    .dataframe thead th {\n        text-align: right;\n    }\n</style>\n<table border=\"1\" class=\"dataframe\">\n  <thead>\n    <tr style=\"text-align: right;\">\n      <th></th>\n      <th>ODPair</th>\n      <th>I</th>\n      <th>J</th>\n      <th>External</th>\n      <th>Time</th>\n      <th>Distance</th>\n    </tr>\n  </thead>\n  <tbody>\n    <tr>\n      <th>0</th>\n      <td>31_8776</td>\n      <td>31.0</td>\n      <td>8776.0</td>\n      <td>12.0</td>\n      <td>2869.37</td>\n      <td>3027.30</td>\n    </tr>\n    <tr>\n      <th>1</th>\n      <td>31_8777</td>\n      <td>31.0</td>\n      <td>8777.0</td>\n      <td>12.0</td>\n      <td>2712.40</td>\n      <td>2846.01</td>\n    </tr>\n    <tr>\n      <th>2</th>\n      <td>31_8778</td>\n      <td>31.0</td>\n      <td>8778.0</td>\n      <td>12.0</td>\n      <td>2509.57</td>\n      <td>2625.02</td>\n    </tr>\n    <tr>\n      <th>3</th>\n      <td>31_8779</td>\n      <td>31.0</td>\n      <td>8779.0</td>\n      <td>12.0</td>\n      <td>2439.52</td>\n      <td>2583.07</td>\n    </tr>\n    <tr>\n      <th>4</th>\n      <td>31_8780</td>\n      <td>31.0</td>\n      <td>8780.0</td>\n      <td>12.0</td>\n      <td>2267.28</td>\n      <td>2447.13</td>\n    </tr>\n    <tr>\n      <th>...</th>\n      <td>...</td>\n      <td>...</td>\n      <td>...</td>\n      <td>...</td>\n      <td>...</td>\n      <td>...</td>\n    </tr>\n    <tr>\n      <th>3407818</th>\n      <td>8976_8771</td>\n      <td>8976.0</td>\n      <td>8771.0</td>\n      <td>23.0</td>\n      <td>520.47</td>\n      <td>493.43</td>\n    </tr>\n    <tr>\n      <th>3407819</th>\n      <td>8976_8772</td>\n      <td>8976.0</td>\n      <td>8772.0</td>\n      <td>23.0</td>\n      <td>523.07</td>\n      <td>495.76</td>\n    </tr>\n    <tr>\n      <th>3407820</th>\n      <td>8976_8773</td>\n      <td>8976.0</td>\n      <td>8773.0</td>\n      <td>23.0</td>\n      <td>532.31</td>\n      <td>489.34</td>\n    </tr>\n    <tr>\n      <th>3407821</th>\n      <td>8976_8774</td>\n      <td>8976.0</td>\n      <td>8774.0</td>\n      <td>23.0</td>\n      <td>559.14</td>\n      <td>498.78</td>\n    </tr>\n    <tr>\n      <th>3407822</th>\n      <td>8976_8775</td>\n      <td>8976.0</td>\n      <td>8775.0</td>\n      <td>23.0</td>\n      <td>549.14</td>\n      <td>508.79</td>\n    </tr>\n  </tbody>\n</table>\n<p>3407823 rows × 6 columns</p>\n</div>"
     },
     "metadata": {},
     "execution_count": 9
    }
   ],
   "source": [
    "df_luExternals"
   ]
  },
  {
   "cell_type": "code",
   "execution_count": 10,
   "metadata": {},
   "outputs": [],
   "source": [
    "sdf_TAZ = pd.DataFrame.spatial.from_featureclass(filename_TAZ)"
   ]
  },
  {
   "cell_type": "code",
   "execution_count": 11,
   "metadata": {},
   "outputs": [
    {
     "output_type": "execute_result",
     "data": {
      "text/plain": [
       "      TAZID  CO_TAZID\n",
       "0      7067     50639\n",
       "1      7069     50641\n",
       "2      6478     50050\n",
       "3      7091     50663\n",
       "4      7087     50659\n",
       "...     ...       ...\n",
       "8939   8972   -808972\n",
       "8940   8973   -808973\n",
       "8941   8974   -808974\n",
       "8942   8975   -808975\n",
       "8943   8976   -808976\n",
       "\n",
       "[8944 rows x 2 columns]"
      ],
      "text/html": "<div>\n<style scoped>\n    .dataframe tbody tr th:only-of-type {\n        vertical-align: middle;\n    }\n\n    .dataframe tbody tr th {\n        vertical-align: top;\n    }\n\n    .dataframe thead th {\n        text-align: right;\n    }\n</style>\n<table border=\"1\" class=\"dataframe\">\n  <thead>\n    <tr style=\"text-align: right;\">\n      <th></th>\n      <th>TAZID</th>\n      <th>CO_TAZID</th>\n    </tr>\n  </thead>\n  <tbody>\n    <tr>\n      <th>0</th>\n      <td>7067</td>\n      <td>50639</td>\n    </tr>\n    <tr>\n      <th>1</th>\n      <td>7069</td>\n      <td>50641</td>\n    </tr>\n    <tr>\n      <th>2</th>\n      <td>6478</td>\n      <td>50050</td>\n    </tr>\n    <tr>\n      <th>3</th>\n      <td>7091</td>\n      <td>50663</td>\n    </tr>\n    <tr>\n      <th>4</th>\n      <td>7087</td>\n      <td>50659</td>\n    </tr>\n    <tr>\n      <th>...</th>\n      <td>...</td>\n      <td>...</td>\n    </tr>\n    <tr>\n      <th>8939</th>\n      <td>8972</td>\n      <td>-808972</td>\n    </tr>\n    <tr>\n      <th>8940</th>\n      <td>8973</td>\n      <td>-808973</td>\n    </tr>\n    <tr>\n      <th>8941</th>\n      <td>8974</td>\n      <td>-808974</td>\n    </tr>\n    <tr>\n      <th>8942</th>\n      <td>8975</td>\n      <td>-808975</td>\n    </tr>\n    <tr>\n      <th>8943</th>\n      <td>8976</td>\n      <td>-808976</td>\n    </tr>\n  </tbody>\n</table>\n<p>8944 rows × 2 columns</p>\n</div>"
     },
     "metadata": {},
     "execution_count": 11
    }
   ],
   "source": [
    "df_luTAZ = sdf_TAZ[['TAZID','CO_TAZID']]\n",
    "df_luTAZ"
   ]
  },
  {
   "cell_type": "code",
   "execution_count": 12,
   "metadata": {},
   "outputs": [
    {
     "output_type": "execute_result",
     "data": {
      "text/plain": [
       "            ODPair       I       J  External     Time  Distance  TAZID_i  \\\n",
       "0          31_8776    31.0  8776.0      12.0  2869.37   3027.30       31   \n",
       "1          31_8777    31.0  8777.0      12.0  2712.40   2846.01       31   \n",
       "2          31_8778    31.0  8778.0      12.0  2509.57   2625.02       31   \n",
       "3          31_8779    31.0  8779.0      12.0  2439.52   2583.07       31   \n",
       "4          31_8780    31.0  8780.0      12.0  2267.28   2447.13       31   \n",
       "...            ...     ...     ...       ...      ...       ...      ...   \n",
       "3390832  8976_8771  8976.0  8771.0      23.0   520.47    493.43     8976   \n",
       "3390833  8976_8772  8976.0  8772.0      23.0   523.07    495.76     8976   \n",
       "3390834  8976_8773  8976.0  8773.0      23.0   532.31    489.34     8976   \n",
       "3390835  8976_8774  8976.0  8774.0      23.0   559.14    498.78     8976   \n",
       "3390836  8976_8775  8976.0  8775.0      23.0   549.14    508.79     8976   \n",
       "\n",
       "         CO_TAZID_i  \n",
       "0              1001  \n",
       "1              1001  \n",
       "2              1001  \n",
       "3              1001  \n",
       "4              1001  \n",
       "...             ...  \n",
       "3390832     -808976  \n",
       "3390833     -808976  \n",
       "3390834     -808976  \n",
       "3390835     -808976  \n",
       "3390836     -808976  \n",
       "\n",
       "[3390837 rows x 8 columns]"
      ],
      "text/html": "<div>\n<style scoped>\n    .dataframe tbody tr th:only-of-type {\n        vertical-align: middle;\n    }\n\n    .dataframe tbody tr th {\n        vertical-align: top;\n    }\n\n    .dataframe thead th {\n        text-align: right;\n    }\n</style>\n<table border=\"1\" class=\"dataframe\">\n  <thead>\n    <tr style=\"text-align: right;\">\n      <th></th>\n      <th>ODPair</th>\n      <th>I</th>\n      <th>J</th>\n      <th>External</th>\n      <th>Time</th>\n      <th>Distance</th>\n      <th>TAZID_i</th>\n      <th>CO_TAZID_i</th>\n    </tr>\n  </thead>\n  <tbody>\n    <tr>\n      <th>0</th>\n      <td>31_8776</td>\n      <td>31.0</td>\n      <td>8776.0</td>\n      <td>12.0</td>\n      <td>2869.37</td>\n      <td>3027.30</td>\n      <td>31</td>\n      <td>1001</td>\n    </tr>\n    <tr>\n      <th>1</th>\n      <td>31_8777</td>\n      <td>31.0</td>\n      <td>8777.0</td>\n      <td>12.0</td>\n      <td>2712.40</td>\n      <td>2846.01</td>\n      <td>31</td>\n      <td>1001</td>\n    </tr>\n    <tr>\n      <th>2</th>\n      <td>31_8778</td>\n      <td>31.0</td>\n      <td>8778.0</td>\n      <td>12.0</td>\n      <td>2509.57</td>\n      <td>2625.02</td>\n      <td>31</td>\n      <td>1001</td>\n    </tr>\n    <tr>\n      <th>3</th>\n      <td>31_8779</td>\n      <td>31.0</td>\n      <td>8779.0</td>\n      <td>12.0</td>\n      <td>2439.52</td>\n      <td>2583.07</td>\n      <td>31</td>\n      <td>1001</td>\n    </tr>\n    <tr>\n      <th>4</th>\n      <td>31_8780</td>\n      <td>31.0</td>\n      <td>8780.0</td>\n      <td>12.0</td>\n      <td>2267.28</td>\n      <td>2447.13</td>\n      <td>31</td>\n      <td>1001</td>\n    </tr>\n    <tr>\n      <th>...</th>\n      <td>...</td>\n      <td>...</td>\n      <td>...</td>\n      <td>...</td>\n      <td>...</td>\n      <td>...</td>\n      <td>...</td>\n      <td>...</td>\n    </tr>\n    <tr>\n      <th>3390832</th>\n      <td>8976_8771</td>\n      <td>8976.0</td>\n      <td>8771.0</td>\n      <td>23.0</td>\n      <td>520.47</td>\n      <td>493.43</td>\n      <td>8976</td>\n      <td>-808976</td>\n    </tr>\n    <tr>\n      <th>3390833</th>\n      <td>8976_8772</td>\n      <td>8976.0</td>\n      <td>8772.0</td>\n      <td>23.0</td>\n      <td>523.07</td>\n      <td>495.76</td>\n      <td>8976</td>\n      <td>-808976</td>\n    </tr>\n    <tr>\n      <th>3390834</th>\n      <td>8976_8773</td>\n      <td>8976.0</td>\n      <td>8773.0</td>\n      <td>23.0</td>\n      <td>532.31</td>\n      <td>489.34</td>\n      <td>8976</td>\n      <td>-808976</td>\n    </tr>\n    <tr>\n      <th>3390835</th>\n      <td>8976_8774</td>\n      <td>8976.0</td>\n      <td>8774.0</td>\n      <td>23.0</td>\n      <td>559.14</td>\n      <td>498.78</td>\n      <td>8976</td>\n      <td>-808976</td>\n    </tr>\n    <tr>\n      <th>3390836</th>\n      <td>8976_8775</td>\n      <td>8976.0</td>\n      <td>8775.0</td>\n      <td>23.0</td>\n      <td>549.14</td>\n      <td>508.79</td>\n      <td>8976</td>\n      <td>-808976</td>\n    </tr>\n  </tbody>\n</table>\n<p>3390837 rows × 8 columns</p>\n</div>"
     },
     "metadata": {},
     "execution_count": 12
    }
   ],
   "source": [
    "df_luExternals_wCoTAZID_i = pd.DataFrame.merge(df_luExternals, df_luTAZ, left_on='I', right_on='TAZID')\n",
    "df_luExternals_wCoTAZID_i = df_luExternals_wCoTAZID_i.rename(columns={\"CO_TAZID\": \"CO_TAZID_i\",\"TAZID\": \"TAZID_i\"})\n",
    "df_luExternals_wCoTAZID_i"
   ]
  },
  {
   "cell_type": "code",
   "execution_count": 13,
   "metadata": {},
   "outputs": [
    {
     "output_type": "execute_result",
     "data": {
      "text/plain": [
       "            ODPair       I       J  External     Time  Distance  TAZID_i  \\\n",
       "0          31_8776    31.0  8776.0      12.0  2869.37   3027.30       31   \n",
       "1          32_8776    32.0  8776.0      12.0  2867.64   3026.35       32   \n",
       "2          33_8776    33.0  8776.0      12.0  2867.51   3026.29       33   \n",
       "3          34_8776    34.0  8776.0      12.0  2867.23   3026.29       34   \n",
       "4          35_8776    35.0  8776.0      12.0  2866.58   3025.66       35   \n",
       "...            ...     ...     ...       ...      ...       ...      ...   \n",
       "3373848  8972_8775  8972.0  8775.0      12.0   565.05    443.95     8972   \n",
       "3373849  8973_8775  8973.0  8775.0       2.0   524.01    513.90     8973   \n",
       "3373850  8974_8775  8974.0  8775.0      18.0   491.53    399.41     8974   \n",
       "3373851  8975_8775  8975.0  8775.0      10.0   545.74    468.97     8975   \n",
       "3373852  8976_8775  8976.0  8775.0      23.0   549.14    508.79     8976   \n",
       "\n",
       "         CO_TAZID_i  TAZID_j  CO_TAZID_j  \n",
       "0              1001     8776     -808776  \n",
       "1              1002     8776     -808776  \n",
       "2              1003     8776     -808776  \n",
       "3              1004     8776     -808776  \n",
       "4              1005     8776     -808776  \n",
       "...             ...      ...         ...  \n",
       "3373848     -808972     8775       51310  \n",
       "3373849     -808973     8775       51310  \n",
       "3373850     -808974     8775       51310  \n",
       "3373851     -808975     8775       51310  \n",
       "3373852     -808976     8775       51310  \n",
       "\n",
       "[3373853 rows x 10 columns]"
      ],
      "text/html": "<div>\n<style scoped>\n    .dataframe tbody tr th:only-of-type {\n        vertical-align: middle;\n    }\n\n    .dataframe tbody tr th {\n        vertical-align: top;\n    }\n\n    .dataframe thead th {\n        text-align: right;\n    }\n</style>\n<table border=\"1\" class=\"dataframe\">\n  <thead>\n    <tr style=\"text-align: right;\">\n      <th></th>\n      <th>ODPair</th>\n      <th>I</th>\n      <th>J</th>\n      <th>External</th>\n      <th>Time</th>\n      <th>Distance</th>\n      <th>TAZID_i</th>\n      <th>CO_TAZID_i</th>\n      <th>TAZID_j</th>\n      <th>CO_TAZID_j</th>\n    </tr>\n  </thead>\n  <tbody>\n    <tr>\n      <th>0</th>\n      <td>31_8776</td>\n      <td>31.0</td>\n      <td>8776.0</td>\n      <td>12.0</td>\n      <td>2869.37</td>\n      <td>3027.30</td>\n      <td>31</td>\n      <td>1001</td>\n      <td>8776</td>\n      <td>-808776</td>\n    </tr>\n    <tr>\n      <th>1</th>\n      <td>32_8776</td>\n      <td>32.0</td>\n      <td>8776.0</td>\n      <td>12.0</td>\n      <td>2867.64</td>\n      <td>3026.35</td>\n      <td>32</td>\n      <td>1002</td>\n      <td>8776</td>\n      <td>-808776</td>\n    </tr>\n    <tr>\n      <th>2</th>\n      <td>33_8776</td>\n      <td>33.0</td>\n      <td>8776.0</td>\n      <td>12.0</td>\n      <td>2867.51</td>\n      <td>3026.29</td>\n      <td>33</td>\n      <td>1003</td>\n      <td>8776</td>\n      <td>-808776</td>\n    </tr>\n    <tr>\n      <th>3</th>\n      <td>34_8776</td>\n      <td>34.0</td>\n      <td>8776.0</td>\n      <td>12.0</td>\n      <td>2867.23</td>\n      <td>3026.29</td>\n      <td>34</td>\n      <td>1004</td>\n      <td>8776</td>\n      <td>-808776</td>\n    </tr>\n    <tr>\n      <th>4</th>\n      <td>35_8776</td>\n      <td>35.0</td>\n      <td>8776.0</td>\n      <td>12.0</td>\n      <td>2866.58</td>\n      <td>3025.66</td>\n      <td>35</td>\n      <td>1005</td>\n      <td>8776</td>\n      <td>-808776</td>\n    </tr>\n    <tr>\n      <th>...</th>\n      <td>...</td>\n      <td>...</td>\n      <td>...</td>\n      <td>...</td>\n      <td>...</td>\n      <td>...</td>\n      <td>...</td>\n      <td>...</td>\n      <td>...</td>\n      <td>...</td>\n    </tr>\n    <tr>\n      <th>3373848</th>\n      <td>8972_8775</td>\n      <td>8972.0</td>\n      <td>8775.0</td>\n      <td>12.0</td>\n      <td>565.05</td>\n      <td>443.95</td>\n      <td>8972</td>\n      <td>-808972</td>\n      <td>8775</td>\n      <td>51310</td>\n    </tr>\n    <tr>\n      <th>3373849</th>\n      <td>8973_8775</td>\n      <td>8973.0</td>\n      <td>8775.0</td>\n      <td>2.0</td>\n      <td>524.01</td>\n      <td>513.90</td>\n      <td>8973</td>\n      <td>-808973</td>\n      <td>8775</td>\n      <td>51310</td>\n    </tr>\n    <tr>\n      <th>3373850</th>\n      <td>8974_8775</td>\n      <td>8974.0</td>\n      <td>8775.0</td>\n      <td>18.0</td>\n      <td>491.53</td>\n      <td>399.41</td>\n      <td>8974</td>\n      <td>-808974</td>\n      <td>8775</td>\n      <td>51310</td>\n    </tr>\n    <tr>\n      <th>3373851</th>\n      <td>8975_8775</td>\n      <td>8975.0</td>\n      <td>8775.0</td>\n      <td>10.0</td>\n      <td>545.74</td>\n      <td>468.97</td>\n      <td>8975</td>\n      <td>-808975</td>\n      <td>8775</td>\n      <td>51310</td>\n    </tr>\n    <tr>\n      <th>3373852</th>\n      <td>8976_8775</td>\n      <td>8976.0</td>\n      <td>8775.0</td>\n      <td>23.0</td>\n      <td>549.14</td>\n      <td>508.79</td>\n      <td>8976</td>\n      <td>-808976</td>\n      <td>8775</td>\n      <td>51310</td>\n    </tr>\n  </tbody>\n</table>\n<p>3373853 rows × 10 columns</p>\n</div>"
     },
     "metadata": {},
     "execution_count": 13
    }
   ],
   "source": [
    "df_luExternals_wCoTAZID_j = pd.DataFrame.merge(df_luExternals_wCoTAZID_i, df_luTAZ, left_on='J', right_on='TAZID')\n",
    "df_luExternals_wCoTAZID_j = df_luExternals_wCoTAZID_j.rename(columns={\"CO_TAZID\": \"CO_TAZID_j\",\"TAZID\": \"TAZID_j\"})\n",
    "df_luExternals_wCoTAZID_j"
   ]
  },
  {
   "cell_type": "code",
   "execution_count": 14,
   "metadata": {},
   "outputs": [
    {
     "output_type": "execute_result",
     "data": {
      "text/plain": [
       "         TAZID_i  TAZID_j  CO_TAZID_i  CO_TAZID_j  External\n",
       "0             31     8776        1001     -808776      12.0\n",
       "1             32     8776        1002     -808776      12.0\n",
       "2             33     8776        1003     -808776      12.0\n",
       "3             34     8776        1004     -808776      12.0\n",
       "4             35     8776        1005     -808776      12.0\n",
       "...          ...      ...         ...         ...       ...\n",
       "3373848     8972     8775     -808972       51310      12.0\n",
       "3373849     8973     8775     -808973       51310       2.0\n",
       "3373850     8974     8775     -808974       51310      18.0\n",
       "3373851     8975     8775     -808975       51310      10.0\n",
       "3373852     8976     8775     -808976       51310      23.0\n",
       "\n",
       "[3373853 rows x 5 columns]"
      ],
      "text/html": "<div>\n<style scoped>\n    .dataframe tbody tr th:only-of-type {\n        vertical-align: middle;\n    }\n\n    .dataframe tbody tr th {\n        vertical-align: top;\n    }\n\n    .dataframe thead th {\n        text-align: right;\n    }\n</style>\n<table border=\"1\" class=\"dataframe\">\n  <thead>\n    <tr style=\"text-align: right;\">\n      <th></th>\n      <th>TAZID_i</th>\n      <th>TAZID_j</th>\n      <th>CO_TAZID_i</th>\n      <th>CO_TAZID_j</th>\n      <th>External</th>\n    </tr>\n  </thead>\n  <tbody>\n    <tr>\n      <th>0</th>\n      <td>31</td>\n      <td>8776</td>\n      <td>1001</td>\n      <td>-808776</td>\n      <td>12.0</td>\n    </tr>\n    <tr>\n      <th>1</th>\n      <td>32</td>\n      <td>8776</td>\n      <td>1002</td>\n      <td>-808776</td>\n      <td>12.0</td>\n    </tr>\n    <tr>\n      <th>2</th>\n      <td>33</td>\n      <td>8776</td>\n      <td>1003</td>\n      <td>-808776</td>\n      <td>12.0</td>\n    </tr>\n    <tr>\n      <th>3</th>\n      <td>34</td>\n      <td>8776</td>\n      <td>1004</td>\n      <td>-808776</td>\n      <td>12.0</td>\n    </tr>\n    <tr>\n      <th>4</th>\n      <td>35</td>\n      <td>8776</td>\n      <td>1005</td>\n      <td>-808776</td>\n      <td>12.0</td>\n    </tr>\n    <tr>\n      <th>...</th>\n      <td>...</td>\n      <td>...</td>\n      <td>...</td>\n      <td>...</td>\n      <td>...</td>\n    </tr>\n    <tr>\n      <th>3373848</th>\n      <td>8972</td>\n      <td>8775</td>\n      <td>-808972</td>\n      <td>51310</td>\n      <td>12.0</td>\n    </tr>\n    <tr>\n      <th>3373849</th>\n      <td>8973</td>\n      <td>8775</td>\n      <td>-808973</td>\n      <td>51310</td>\n      <td>2.0</td>\n    </tr>\n    <tr>\n      <th>3373850</th>\n      <td>8974</td>\n      <td>8775</td>\n      <td>-808974</td>\n      <td>51310</td>\n      <td>18.0</td>\n    </tr>\n    <tr>\n      <th>3373851</th>\n      <td>8975</td>\n      <td>8775</td>\n      <td>-808975</td>\n      <td>51310</td>\n      <td>10.0</td>\n    </tr>\n    <tr>\n      <th>3373852</th>\n      <td>8976</td>\n      <td>8775</td>\n      <td>-808976</td>\n      <td>51310</td>\n      <td>23.0</td>\n    </tr>\n  </tbody>\n</table>\n<p>3373853 rows × 5 columns</p>\n</div>"
     },
     "metadata": {},
     "execution_count": 14
    }
   ],
   "source": [
    "df_luExternals_wCoTAZID = df_luExternals_wCoTAZID_j[['TAZID_i','TAZID_j','CO_TAZID_i','CO_TAZID_j','External']]\n",
    "df_luExternals_wCoTAZID"
   ]
  },
  {
   "cell_type": "code",
   "execution_count": 15,
   "metadata": {},
   "outputs": [
    {
     "output_type": "execute_result",
     "data": {
      "text/plain": [
       "     record_id trip_pur_t     weight PA_AP       P       A\n",
       "0         1311        HBW  19.457436    PA  6583.0    22.0\n",
       "1         1312        HBW  19.457436    AP  6583.0    22.0\n",
       "2         1418      NHBNW  56.887142    PA  7854.0     3.0\n",
       "3         1419      NHBNW  56.887142    PA     3.0  7606.0\n",
       "4         1422      NHBNW  56.887142    PA  7880.0     3.0\n",
       "..         ...        ...        ...   ...     ...     ...\n",
       "544     103039        HBW  38.316773    PA  7635.0     3.0\n",
       "545     103052        HBW  31.184202    PA  7455.0     3.0\n",
       "546     103095        HBW  45.175257    AP  7503.0     3.0\n",
       "547     103144        HBW  18.536184    PA  7646.0     3.0\n",
       "548     103145        HBW  18.536184    AP  7646.0     3.0\n",
       "\n",
       "[549 rows x 6 columns]"
      ],
      "text/html": "<div>\n<style scoped>\n    .dataframe tbody tr th:only-of-type {\n        vertical-align: middle;\n    }\n\n    .dataframe tbody tr th {\n        vertical-align: top;\n    }\n\n    .dataframe thead th {\n        text-align: right;\n    }\n</style>\n<table border=\"1\" class=\"dataframe\">\n  <thead>\n    <tr style=\"text-align: right;\">\n      <th></th>\n      <th>record_id</th>\n      <th>trip_pur_t</th>\n      <th>weight</th>\n      <th>PA_AP</th>\n      <th>P</th>\n      <th>A</th>\n    </tr>\n  </thead>\n  <tbody>\n    <tr>\n      <th>0</th>\n      <td>1311</td>\n      <td>HBW</td>\n      <td>19.457436</td>\n      <td>PA</td>\n      <td>6583.0</td>\n      <td>22.0</td>\n    </tr>\n    <tr>\n      <th>1</th>\n      <td>1312</td>\n      <td>HBW</td>\n      <td>19.457436</td>\n      <td>AP</td>\n      <td>6583.0</td>\n      <td>22.0</td>\n    </tr>\n    <tr>\n      <th>2</th>\n      <td>1418</td>\n      <td>NHBNW</td>\n      <td>56.887142</td>\n      <td>PA</td>\n      <td>7854.0</td>\n      <td>3.0</td>\n    </tr>\n    <tr>\n      <th>3</th>\n      <td>1419</td>\n      <td>NHBNW</td>\n      <td>56.887142</td>\n      <td>PA</td>\n      <td>3.0</td>\n      <td>7606.0</td>\n    </tr>\n    <tr>\n      <th>4</th>\n      <td>1422</td>\n      <td>NHBNW</td>\n      <td>56.887142</td>\n      <td>PA</td>\n      <td>7880.0</td>\n      <td>3.0</td>\n    </tr>\n    <tr>\n      <th>...</th>\n      <td>...</td>\n      <td>...</td>\n      <td>...</td>\n      <td>...</td>\n      <td>...</td>\n      <td>...</td>\n    </tr>\n    <tr>\n      <th>544</th>\n      <td>103039</td>\n      <td>HBW</td>\n      <td>38.316773</td>\n      <td>PA</td>\n      <td>7635.0</td>\n      <td>3.0</td>\n    </tr>\n    <tr>\n      <th>545</th>\n      <td>103052</td>\n      <td>HBW</td>\n      <td>31.184202</td>\n      <td>PA</td>\n      <td>7455.0</td>\n      <td>3.0</td>\n    </tr>\n    <tr>\n      <th>546</th>\n      <td>103095</td>\n      <td>HBW</td>\n      <td>45.175257</td>\n      <td>AP</td>\n      <td>7503.0</td>\n      <td>3.0</td>\n    </tr>\n    <tr>\n      <th>547</th>\n      <td>103144</td>\n      <td>HBW</td>\n      <td>18.536184</td>\n      <td>PA</td>\n      <td>7646.0</td>\n      <td>3.0</td>\n    </tr>\n    <tr>\n      <th>548</th>\n      <td>103145</td>\n      <td>HBW</td>\n      <td>18.536184</td>\n      <td>AP</td>\n      <td>7646.0</td>\n      <td>3.0</td>\n    </tr>\n  </tbody>\n</table>\n<p>549 rows × 6 columns</p>\n</div>"
     },
     "metadata": {},
     "execution_count": 15
    }
   ],
   "source": [
    "#combine i and j dataframes to get all IXXI trips\n",
    "df_TripData_IXXI_ExternalNum = pd.DataFrame.merge(df_TripData_IXXI, df_luExternals_wCoTAZID, left_on=('p_CO_TAZID','a_CO_TAZID'), right_on=('CO_TAZID_i','CO_TAZID_j'), how='left')\n",
    "df_TripData_IXXI_ExternalNum = df_TripData_IXXI_ExternalNum[['record_id','trip_pur_t','weight','TAZID_i','TAZID_j','External','PA_AP']]\n",
    "\n",
    "#Calculate Ps and As, replacing >8775 with external number\n",
    "df_TripData_IXXI_ExternalNum['P'] = df_TripData_IXXI_ExternalNum.apply(lambda row: row['External'] if row['TAZID_i'] > 8775 else row['TAZID_i'], axis=1)\n",
    "df_TripData_IXXI_ExternalNum['A'] = df_TripData_IXXI_ExternalNum.apply(lambda row: row['External'] if row['TAZID_j'] > 8775 else row['TAZID_j'], axis=1)\n",
    "\n",
    "df_TripData_IXXI_ExternalNum = df_TripData_IXXI_ExternalNum[['record_id','trip_pur_t','weight','PA_AP','P','A']]\n",
    "df_TripData_IXXI_ExternalNum"
   ]
  },
  {
   "cell_type": "code",
   "execution_count": 16,
   "metadata": {},
   "outputs": [
    {
     "output_type": "display_data",
     "data": {
      "text/plain": "Empty DataFrame\nColumns: [record_id, trip_pur_t, weight, PA_AP, P, A]\nIndex: []",
      "text/html": "<div>\n<style scoped>\n    .dataframe tbody tr th:only-of-type {\n        vertical-align: middle;\n    }\n\n    .dataframe tbody tr th {\n        vertical-align: top;\n    }\n\n    .dataframe thead th {\n        text-align: right;\n    }\n</style>\n<table border=\"1\" class=\"dataframe\">\n  <thead>\n    <tr style=\"text-align: right;\">\n      <th></th>\n      <th>record_id</th>\n      <th>trip_pur_t</th>\n      <th>weight</th>\n      <th>PA_AP</th>\n      <th>P</th>\n      <th>A</th>\n    </tr>\n  </thead>\n  <tbody>\n  </tbody>\n</table>\n</div>"
     },
     "metadata": {}
    },
    {
     "output_type": "display_data",
     "data": {
      "text/plain": "Empty DataFrame\nColumns: [record_id, trip_pur_t, weight, PA_AP, P, A]\nIndex: []",
      "text/html": "<div>\n<style scoped>\n    .dataframe tbody tr th:only-of-type {\n        vertical-align: middle;\n    }\n\n    .dataframe tbody tr th {\n        vertical-align: top;\n    }\n\n    .dataframe thead th {\n        text-align: right;\n    }\n</style>\n<table border=\"1\" class=\"dataframe\">\n  <thead>\n    <tr style=\"text-align: right;\">\n      <th></th>\n      <th>record_id</th>\n      <th>trip_pur_t</th>\n      <th>weight</th>\n      <th>PA_AP</th>\n      <th>P</th>\n      <th>A</th>\n    </tr>\n  </thead>\n  <tbody>\n  </tbody>\n</table>\n</div>"
     },
     "metadata": {}
    },
    {
     "output_type": "display_data",
     "data": {
      "text/plain": "     record_id trip_pur_t     weight PA_AP       P     A\n0         1311        HBW  19.457436    PA  6583.0  22.0\n1         1312        HBW  19.457436    AP  6583.0  22.0\n2         1418      NHBNW  56.887142    PA  7854.0   3.0\n4         1422      NHBNW  56.887142    PA  7880.0   3.0\n6         1426      NHBNW  56.887142    PA  7854.0   3.0\n..         ...        ...        ...   ...     ...   ...\n544     103039        HBW  38.316773    PA  7635.0   3.0\n545     103052        HBW  31.184202    PA  7455.0   3.0\n546     103095        HBW  45.175257    AP  7503.0   3.0\n547     103144        HBW  18.536184    PA  7646.0   3.0\n548     103145        HBW  18.536184    AP  7646.0   3.0\n\n[438 rows x 6 columns]",
      "text/html": "<div>\n<style scoped>\n    .dataframe tbody tr th:only-of-type {\n        vertical-align: middle;\n    }\n\n    .dataframe tbody tr th {\n        vertical-align: top;\n    }\n\n    .dataframe thead th {\n        text-align: right;\n    }\n</style>\n<table border=\"1\" class=\"dataframe\">\n  <thead>\n    <tr style=\"text-align: right;\">\n      <th></th>\n      <th>record_id</th>\n      <th>trip_pur_t</th>\n      <th>weight</th>\n      <th>PA_AP</th>\n      <th>P</th>\n      <th>A</th>\n    </tr>\n  </thead>\n  <tbody>\n    <tr>\n      <th>0</th>\n      <td>1311</td>\n      <td>HBW</td>\n      <td>19.457436</td>\n      <td>PA</td>\n      <td>6583.0</td>\n      <td>22.0</td>\n    </tr>\n    <tr>\n      <th>1</th>\n      <td>1312</td>\n      <td>HBW</td>\n      <td>19.457436</td>\n      <td>AP</td>\n      <td>6583.0</td>\n      <td>22.0</td>\n    </tr>\n    <tr>\n      <th>2</th>\n      <td>1418</td>\n      <td>NHBNW</td>\n      <td>56.887142</td>\n      <td>PA</td>\n      <td>7854.0</td>\n      <td>3.0</td>\n    </tr>\n    <tr>\n      <th>4</th>\n      <td>1422</td>\n      <td>NHBNW</td>\n      <td>56.887142</td>\n      <td>PA</td>\n      <td>7880.0</td>\n      <td>3.0</td>\n    </tr>\n    <tr>\n      <th>6</th>\n      <td>1426</td>\n      <td>NHBNW</td>\n      <td>56.887142</td>\n      <td>PA</td>\n      <td>7854.0</td>\n      <td>3.0</td>\n    </tr>\n    <tr>\n      <th>...</th>\n      <td>...</td>\n      <td>...</td>\n      <td>...</td>\n      <td>...</td>\n      <td>...</td>\n      <td>...</td>\n    </tr>\n    <tr>\n      <th>544</th>\n      <td>103039</td>\n      <td>HBW</td>\n      <td>38.316773</td>\n      <td>PA</td>\n      <td>7635.0</td>\n      <td>3.0</td>\n    </tr>\n    <tr>\n      <th>545</th>\n      <td>103052</td>\n      <td>HBW</td>\n      <td>31.184202</td>\n      <td>PA</td>\n      <td>7455.0</td>\n      <td>3.0</td>\n    </tr>\n    <tr>\n      <th>546</th>\n      <td>103095</td>\n      <td>HBW</td>\n      <td>45.175257</td>\n      <td>AP</td>\n      <td>7503.0</td>\n      <td>3.0</td>\n    </tr>\n    <tr>\n      <th>547</th>\n      <td>103144</td>\n      <td>HBW</td>\n      <td>18.536184</td>\n      <td>PA</td>\n      <td>7646.0</td>\n      <td>3.0</td>\n    </tr>\n    <tr>\n      <th>548</th>\n      <td>103145</td>\n      <td>HBW</td>\n      <td>18.536184</td>\n      <td>AP</td>\n      <td>7646.0</td>\n      <td>3.0</td>\n    </tr>\n  </tbody>\n</table>\n<p>438 rows × 6 columns</p>\n</div>"
     },
     "metadata": {}
    },
    {
     "output_type": "display_data",
     "data": {
      "text/plain": "     record_id trip_pur_t     weight PA_AP     P       A\n3         1419      NHBNW  56.887142    PA   3.0  7606.0\n5         1423      NHBNW  56.887142    PA   3.0  7606.0\n7         1427      NHBNW  56.887142    PA   3.0  7606.0\n9         1431      NHBNW  56.887142    PA   3.0  7606.0\n11        1435      NHBNW  56.887142    PA   3.0  7606.0\n..         ...        ...        ...   ...   ...     ...\n491      96364       NHBW  38.204073    PA   3.0  7584.0\n521      99363       NHBW  34.231311    PA   3.0  7599.0\n526     100177      NHBNW  17.726043    PA   3.0  7603.0\n528     100182      NHBNW  17.726043    PA   3.0  7603.0\n532     100776      NHBNW  24.221730    PA  12.0  7585.0\n\n[109 rows x 6 columns]",
      "text/html": "<div>\n<style scoped>\n    .dataframe tbody tr th:only-of-type {\n        vertical-align: middle;\n    }\n\n    .dataframe tbody tr th {\n        vertical-align: top;\n    }\n\n    .dataframe thead th {\n        text-align: right;\n    }\n</style>\n<table border=\"1\" class=\"dataframe\">\n  <thead>\n    <tr style=\"text-align: right;\">\n      <th></th>\n      <th>record_id</th>\n      <th>trip_pur_t</th>\n      <th>weight</th>\n      <th>PA_AP</th>\n      <th>P</th>\n      <th>A</th>\n    </tr>\n  </thead>\n  <tbody>\n    <tr>\n      <th>3</th>\n      <td>1419</td>\n      <td>NHBNW</td>\n      <td>56.887142</td>\n      <td>PA</td>\n      <td>3.0</td>\n      <td>7606.0</td>\n    </tr>\n    <tr>\n      <th>5</th>\n      <td>1423</td>\n      <td>NHBNW</td>\n      <td>56.887142</td>\n      <td>PA</td>\n      <td>3.0</td>\n      <td>7606.0</td>\n    </tr>\n    <tr>\n      <th>7</th>\n      <td>1427</td>\n      <td>NHBNW</td>\n      <td>56.887142</td>\n      <td>PA</td>\n      <td>3.0</td>\n      <td>7606.0</td>\n    </tr>\n    <tr>\n      <th>9</th>\n      <td>1431</td>\n      <td>NHBNW</td>\n      <td>56.887142</td>\n      <td>PA</td>\n      <td>3.0</td>\n      <td>7606.0</td>\n    </tr>\n    <tr>\n      <th>11</th>\n      <td>1435</td>\n      <td>NHBNW</td>\n      <td>56.887142</td>\n      <td>PA</td>\n      <td>3.0</td>\n      <td>7606.0</td>\n    </tr>\n    <tr>\n      <th>...</th>\n      <td>...</td>\n      <td>...</td>\n      <td>...</td>\n      <td>...</td>\n      <td>...</td>\n      <td>...</td>\n    </tr>\n    <tr>\n      <th>491</th>\n      <td>96364</td>\n      <td>NHBW</td>\n      <td>38.204073</td>\n      <td>PA</td>\n      <td>3.0</td>\n      <td>7584.0</td>\n    </tr>\n    <tr>\n      <th>521</th>\n      <td>99363</td>\n      <td>NHBW</td>\n      <td>34.231311</td>\n      <td>PA</td>\n      <td>3.0</td>\n      <td>7599.0</td>\n    </tr>\n    <tr>\n      <th>526</th>\n      <td>100177</td>\n      <td>NHBNW</td>\n      <td>17.726043</td>\n      <td>PA</td>\n      <td>3.0</td>\n      <td>7603.0</td>\n    </tr>\n    <tr>\n      <th>528</th>\n      <td>100182</td>\n      <td>NHBNW</td>\n      <td>17.726043</td>\n      <td>PA</td>\n      <td>3.0</td>\n      <td>7603.0</td>\n    </tr>\n    <tr>\n      <th>532</th>\n      <td>100776</td>\n      <td>NHBNW</td>\n      <td>24.221730</td>\n      <td>PA</td>\n      <td>12.0</td>\n      <td>7585.0</td>\n    </tr>\n  </tbody>\n</table>\n<p>109 rows × 6 columns</p>\n</div>"
     },
     "metadata": {}
    },
    {
     "output_type": "display_data",
     "data": {
      "text/plain": "     record_id trip_pur_t      weight PA_AP   P   A\n379      77717      NHBNW  107.696958    PA NaN NaN\n380      77729      NHBNW  107.696958    PA NaN NaN",
      "text/html": "<div>\n<style scoped>\n    .dataframe tbody tr th:only-of-type {\n        vertical-align: middle;\n    }\n\n    .dataframe tbody tr th {\n        vertical-align: top;\n    }\n\n    .dataframe thead th {\n        text-align: right;\n    }\n</style>\n<table border=\"1\" class=\"dataframe\">\n  <thead>\n    <tr style=\"text-align: right;\">\n      <th></th>\n      <th>record_id</th>\n      <th>trip_pur_t</th>\n      <th>weight</th>\n      <th>PA_AP</th>\n      <th>P</th>\n      <th>A</th>\n    </tr>\n  </thead>\n  <tbody>\n    <tr>\n      <th>379</th>\n      <td>77717</td>\n      <td>NHBNW</td>\n      <td>107.696958</td>\n      <td>PA</td>\n      <td>NaN</td>\n      <td>NaN</td>\n    </tr>\n    <tr>\n      <th>380</th>\n      <td>77729</td>\n      <td>NHBNW</td>\n      <td>107.696958</td>\n      <td>PA</td>\n      <td>NaN</td>\n      <td>NaN</td>\n    </tr>\n  </tbody>\n</table>\n</div>"
     },
     "metadata": {}
    }
   ],
   "source": [
    "#check to make sure all rows have one external only\n",
    "\n",
    "#XX\n",
    "df_check1 = df_TripData_IXXI_ExternalNum[(df_TripData_IXXI_ExternalNum['P']<30) & (df_TripData_IXXI_ExternalNum['A']<30)]\n",
    "display(df_check1)\n",
    "\n",
    "#II\n",
    "df_check2 = df_TripData_IXXI_ExternalNum[(df_TripData_IXXI_ExternalNum['P']>30) & (df_TripData_IXXI_ExternalNum['A']>30)]\n",
    "display(df_check2)\n",
    "\n",
    "#IX trips\n",
    "df_check3 = df_TripData_IXXI_ExternalNum[(df_TripData_IXXI_ExternalNum['P']>30) & (df_TripData_IXXI_ExternalNum['A']<30)]\n",
    "display(df_check3)\n",
    "\n",
    "#XI trips\n",
    "df_check4 = df_TripData_IXXI_ExternalNum[(df_TripData_IXXI_ExternalNum['P']<30) & (df_TripData_IXXI_ExternalNum['A']>30)]\n",
    "display(df_check4)\n",
    "\n",
    "#nulls\n",
    "df_check5 = df_TripData_IXXI_ExternalNum[df_TripData_IXXI_ExternalNum.isna().any(axis=1)]\n",
    "display(df_check5)"
   ]
  },
  {
   "cell_type": "code",
   "execution_count": 17,
   "metadata": {},
   "outputs": [
    {
     "output_type": "display_data",
     "data": {
      "text/plain": "       record_id  p_CO_TAZID  a_CO_TAZID\n74785      77717      351731     -808964\n74797      77729      351731     -808964",
      "text/html": "<div>\n<style scoped>\n    .dataframe tbody tr th:only-of-type {\n        vertical-align: middle;\n    }\n\n    .dataframe tbody tr th {\n        vertical-align: top;\n    }\n\n    .dataframe thead th {\n        text-align: right;\n    }\n</style>\n<table border=\"1\" class=\"dataframe\">\n  <thead>\n    <tr style=\"text-align: right;\">\n      <th></th>\n      <th>record_id</th>\n      <th>p_CO_TAZID</th>\n      <th>a_CO_TAZID</th>\n    </tr>\n  </thead>\n  <tbody>\n    <tr>\n      <th>74785</th>\n      <td>77717</td>\n      <td>351731</td>\n      <td>-808964</td>\n    </tr>\n    <tr>\n      <th>74797</th>\n      <td>77729</td>\n      <td>351731</td>\n      <td>-808964</td>\n    </tr>\n  </tbody>\n</table>\n</div>"
     },
     "metadata": {}
    }
   ],
   "source": [
    "#check on two null rows\n",
    "\n",
    "nullist = [77717,77729]\n",
    "\n",
    "df_nullrecords = df_TripData[df_TripData['record_id'].isin(nullist)]\n",
    "display(df_nullrecords[['record_id','p_CO_TAZID','a_CO_TAZID']])"
   ]
  },
  {
   "source": [
    "NOTE: Examining two null records, show that their quickest route goes through multiple externals, which were filtered out in the external lookup table process."
   ],
   "cell_type": "markdown",
   "metadata": {}
  },
  {
   "cell_type": "code",
   "execution_count": 18,
   "metadata": {},
   "outputs": [
    {
     "output_type": "stream",
     "name": "stderr",
     "text": [
      "ipykernel_launcher:5: SettingWithCopyWarning: \nA value is trying to be set on a copy of a slice from a DataFrame.\nTry using .loc[row_indexer,col_indexer] = value instead\n\nSee the caveats in the documentation: https://pandas.pydata.org/pandas-docs/stable/user_guide/indexing.html#returning-a-view-versus-a-copy\nipykernel_launcher:6: SettingWithCopyWarning: \nA value is trying to be set on a copy of a slice from a DataFrame.\nTry using .loc[row_indexer,col_indexer] = value instead\n\nSee the caveats in the documentation: https://pandas.pydata.org/pandas-docs/stable/user_guide/indexing.html#returning-a-view-versus-a-copy\n"
     ]
    }
   ],
   "source": [
    "#remove na rows\n",
    "df_TripData_IXXI_ExternalNum = df_TripData_IXXI_ExternalNum.dropna()\n",
    "\n",
    "#create O/D columns\n",
    "df_TripData_IXXI_ExternalNum['O'] = df_TripData_IXXI_ExternalNum.apply(lambda row: row['P'] if row['PA_AP'] == 'PA' else row['A'], axis=1)\n",
    "df_TripData_IXXI_ExternalNum['D'] = df_TripData_IXXI_ExternalNum.apply(lambda row: row['A'] if row['PA_AP'] == 'PA' else row['P'], axis=1)\n"
   ]
  },
  {
   "source": [
    "#aggregate by purpose, p, and a\n",
    "df_TripTable_IXXI_PA = df_TripData_IXXI_ExternalNum.groupby(['trip_pur_t','P','A'],as_index=False).aggregate({'weight':np.sum})\n",
    "\n",
    "df_TripTable_IXXI_OD = df_TripData_IXXI_ExternalNum.groupby(['trip_pur_t','O','D'],as_index=False).aggregate({'weight':np.sum})\n",
    "\n",
    "df_TripTable_IXXI_PA = df_TripTable_IXXI_PA.rename(columns={\"weight\": \"trips\"})\n",
    "df_TripTable_IXXI_OD = df_TripTable_IXXI_OD.rename(columns={\"weight\": \"trips\"})\n",
    "\n",
    "#change p/a and o/d to ints\n",
    "df_TripTable_IXXI_PA['P'] = df_TripTable_IXXI_PA['P'].astype('int')\n",
    "df_TripTable_IXXI_PA['A'] = df_TripTable_IXXI_PA['A'].astype('int')\n",
    "df_TripTable_IXXI_OD['O'] = df_TripTable_IXXI_OD['O'].astype('int')\n",
    "df_TripTable_IXXI_OD['D'] = df_TripTable_IXXI_OD['D'].astype('int')\n",
    "\n",
    "display(df_TripTable_IXXI_PA)\n",
    "display(df_TripTable_IXXI_PA[['trips']].sum())\n",
    "\n",
    "display(df_TripTable_IXXI_OD)\n",
    "display(df_TripTable_IXXI_OD[['trips']].sum())"
   ],
   "cell_type": "code",
   "metadata": {},
   "execution_count": 19,
   "outputs": [
    {
     "output_type": "display_data",
     "data": {
      "text/plain": "    trip_pur_t     P   A       trips\n0          HBC  1258   3  308.744921\n1          HBO   163  23  144.540832\n2          HBO   332  24  111.311628\n3          HBO  1133  11   55.984236\n4          HBO  1164  12  121.548928\n..         ...   ...  ..         ...\n267       NHBW  7654   3   31.123822\n268       NHBW  7664   3   34.231311\n269       NHBW  7665   3  229.906346\n270       NHBW  7779   3   84.547725\n271       NHBW  8163   3   52.198183\n\n[272 rows x 4 columns]",
      "text/html": "<div>\n<style scoped>\n    .dataframe tbody tr th:only-of-type {\n        vertical-align: middle;\n    }\n\n    .dataframe tbody tr th {\n        vertical-align: top;\n    }\n\n    .dataframe thead th {\n        text-align: right;\n    }\n</style>\n<table border=\"1\" class=\"dataframe\">\n  <thead>\n    <tr style=\"text-align: right;\">\n      <th></th>\n      <th>trip_pur_t</th>\n      <th>P</th>\n      <th>A</th>\n      <th>trips</th>\n    </tr>\n  </thead>\n  <tbody>\n    <tr>\n      <th>0</th>\n      <td>HBC</td>\n      <td>1258</td>\n      <td>3</td>\n      <td>308.744921</td>\n    </tr>\n    <tr>\n      <th>1</th>\n      <td>HBO</td>\n      <td>163</td>\n      <td>23</td>\n      <td>144.540832</td>\n    </tr>\n    <tr>\n      <th>2</th>\n      <td>HBO</td>\n      <td>332</td>\n      <td>24</td>\n      <td>111.311628</td>\n    </tr>\n    <tr>\n      <th>3</th>\n      <td>HBO</td>\n      <td>1133</td>\n      <td>11</td>\n      <td>55.984236</td>\n    </tr>\n    <tr>\n      <th>4</th>\n      <td>HBO</td>\n      <td>1164</td>\n      <td>12</td>\n      <td>121.548928</td>\n    </tr>\n    <tr>\n      <th>...</th>\n      <td>...</td>\n      <td>...</td>\n      <td>...</td>\n      <td>...</td>\n    </tr>\n    <tr>\n      <th>267</th>\n      <td>NHBW</td>\n      <td>7654</td>\n      <td>3</td>\n      <td>31.123822</td>\n    </tr>\n    <tr>\n      <th>268</th>\n      <td>NHBW</td>\n      <td>7664</td>\n      <td>3</td>\n      <td>34.231311</td>\n    </tr>\n    <tr>\n      <th>269</th>\n      <td>NHBW</td>\n      <td>7665</td>\n      <td>3</td>\n      <td>229.906346</td>\n    </tr>\n    <tr>\n      <th>270</th>\n      <td>NHBW</td>\n      <td>7779</td>\n      <td>3</td>\n      <td>84.547725</td>\n    </tr>\n    <tr>\n      <th>271</th>\n      <td>NHBW</td>\n      <td>8163</td>\n      <td>3</td>\n      <td>52.198183</td>\n    </tr>\n  </tbody>\n</table>\n<p>272 rows × 4 columns</p>\n</div>"
     },
     "metadata": {}
    },
    {
     "output_type": "display_data",
     "data": {
      "text/plain": "trips    49039.688905\ndtype: float64"
     },
     "metadata": {}
    },
    {
     "output_type": "display_data",
     "data": {
      "text/plain": "    trip_pur_t     O     D       trips\n0          HBC     3  1258  154.372460\n1          HBC  1258     3  154.372460\n2          HBO     3  3980  105.270124\n3          HBO     3  7387  101.177824\n4          HBO     3  7401   51.790447\n..         ...   ...   ...         ...\n319       NHBW  7575     3   38.204073\n320       NHBW  7599     3   34.231311\n321       NHBW  7632     3   76.058560\n322       NHBW  7665     3  114.953173\n323       NHBW  8163     3   52.198183\n\n[324 rows x 4 columns]",
      "text/html": "<div>\n<style scoped>\n    .dataframe tbody tr th:only-of-type {\n        vertical-align: middle;\n    }\n\n    .dataframe tbody tr th {\n        vertical-align: top;\n    }\n\n    .dataframe thead th {\n        text-align: right;\n    }\n</style>\n<table border=\"1\" class=\"dataframe\">\n  <thead>\n    <tr style=\"text-align: right;\">\n      <th></th>\n      <th>trip_pur_t</th>\n      <th>O</th>\n      <th>D</th>\n      <th>trips</th>\n    </tr>\n  </thead>\n  <tbody>\n    <tr>\n      <th>0</th>\n      <td>HBC</td>\n      <td>3</td>\n      <td>1258</td>\n      <td>154.372460</td>\n    </tr>\n    <tr>\n      <th>1</th>\n      <td>HBC</td>\n      <td>1258</td>\n      <td>3</td>\n      <td>154.372460</td>\n    </tr>\n    <tr>\n      <th>2</th>\n      <td>HBO</td>\n      <td>3</td>\n      <td>3980</td>\n      <td>105.270124</td>\n    </tr>\n    <tr>\n      <th>3</th>\n      <td>HBO</td>\n      <td>3</td>\n      <td>7387</td>\n      <td>101.177824</td>\n    </tr>\n    <tr>\n      <th>4</th>\n      <td>HBO</td>\n      <td>3</td>\n      <td>7401</td>\n      <td>51.790447</td>\n    </tr>\n    <tr>\n      <th>...</th>\n      <td>...</td>\n      <td>...</td>\n      <td>...</td>\n      <td>...</td>\n    </tr>\n    <tr>\n      <th>319</th>\n      <td>NHBW</td>\n      <td>7575</td>\n      <td>3</td>\n      <td>38.204073</td>\n    </tr>\n    <tr>\n      <th>320</th>\n      <td>NHBW</td>\n      <td>7599</td>\n      <td>3</td>\n      <td>34.231311</td>\n    </tr>\n    <tr>\n      <th>321</th>\n      <td>NHBW</td>\n      <td>7632</td>\n      <td>3</td>\n      <td>76.058560</td>\n    </tr>\n    <tr>\n      <th>322</th>\n      <td>NHBW</td>\n      <td>7665</td>\n      <td>3</td>\n      <td>114.953173</td>\n    </tr>\n    <tr>\n      <th>323</th>\n      <td>NHBW</td>\n      <td>8163</td>\n      <td>3</td>\n      <td>52.198183</td>\n    </tr>\n  </tbody>\n</table>\n<p>324 rows × 4 columns</p>\n</div>"
     },
     "metadata": {}
    },
    {
     "output_type": "display_data",
     "data": {
      "text/plain": "trips    49039.688905\ndtype: float64"
     },
     "metadata": {}
    }
   ]
  },
  {
   "cell_type": "code",
   "execution_count": 20,
   "metadata": {},
   "outputs": [
    {
     "output_type": "display_data",
     "data": {
      "text/plain": "['HBW', 'NHBNW', 'NHBW', 'HBO', 'HBShp', 'HBPb', 'HBSch', 'HBC']"
     },
     "metadata": {}
    },
    {
     "output_type": "display_data",
     "data": {
      "text/plain": "'HBW exported.'"
     },
     "metadata": {}
    },
    {
     "output_type": "display_data",
     "data": {
      "text/plain": "'NHBNW exported.'"
     },
     "metadata": {}
    },
    {
     "output_type": "display_data",
     "data": {
      "text/plain": "'NHBW exported.'"
     },
     "metadata": {}
    },
    {
     "output_type": "display_data",
     "data": {
      "text/plain": "'HBO exported.'"
     },
     "metadata": {}
    },
    {
     "output_type": "display_data",
     "data": {
      "text/plain": "'HBShp exported.'"
     },
     "metadata": {}
    },
    {
     "output_type": "display_data",
     "data": {
      "text/plain": "'HBPb exported.'"
     },
     "metadata": {}
    },
    {
     "output_type": "display_data",
     "data": {
      "text/plain": "'HBSch exported.'"
     },
     "metadata": {}
    },
    {
     "output_type": "display_data",
     "data": {
      "text/plain": "'HBC exported.'"
     },
     "metadata": {}
    }
   ],
   "source": [
    "list_TripPurposes = df_TripData_IXXI_ExternalNum['trip_pur_t'].unique().tolist()\n",
    "display(list_TripPurposes)\n",
    "\n",
    "for tp in list_TripPurposes:\n",
    "\n",
    "    \n",
    "    df_PA = df_TripTable_IXXI_PA[df_TripTable_IXXI_PA['trip_pur_t']==tp]\n",
    "    df_OD = df_TripTable_IXXI_OD[df_TripTable_IXXI_OD['trip_pur_t']==tp]\n",
    "\n",
    "    df_PA[['P','A','trips']].to_csv(os.path.join(dirResults, \"IXXI_\" + tp + \"_PA_TripTable.csv\"),index=False)\n",
    "    df_OD[['O','D','trips']].to_csv(os.path.join(dirResults, \"IXXI_\" + tp + \"_OD_TripTable.csv\"),index=False)\n",
    "\n",
    "    display(tp + \" exported.\")"
   ]
  },
  {
   "cell_type": "code",
   "execution_count": null,
   "metadata": {},
   "outputs": [],
   "source": []
  }
 ],
 "metadata": {
  "kernelspec": {
   "name": "python3",
   "display_name": "Python 3.7.10 64-bit ('arcgispro-py3-clone')"
  },
  "language_info": {
   "codemirror_mode": {
    "name": "ipython",
    "version": 3
   },
   "file_extension": ".py",
   "mimetype": "text/x-python",
   "name": "python",
   "nbconvert_exporter": "python",
   "pygments_lexer": "ipython3",
   "version": "3.7.10"
  },
  "interpreter": {
   "hash": "75725ccd9ac20bebca6cdd378b8353d816998d7cf4fc0f3797ff87c4404072a5"
  }
 },
 "nbformat": 4,
 "nbformat_minor": 4
}